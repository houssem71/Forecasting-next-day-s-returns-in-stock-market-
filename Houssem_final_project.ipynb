{
  "nbformat": 4,
  "nbformat_minor": 0,
  "metadata": {
    "colab": {
      "provenance": []
    },
    "kernelspec": {
      "display_name": "Python 3",
      "language": "python",
      "name": "python3"
    },
    "language_info": {
      "codemirror_mode": {
        "name": "ipython",
        "version": 3
      },
      "file_extension": ".py",
      "mimetype": "text/x-python",
      "name": "python",
      "nbconvert_exporter": "python",
      "pygments_lexer": "ipython3",
      "version": "3.7.4"
    }
  },
  "cells": [
    {
      "cell_type": "code",
      "metadata": {
        "id": "1nMfx9drfTWW"
      },
      "source": [
        "import numpy as np \n",
        "import pandas as pd \n",
        "import seaborn as sns\n",
        "import matplotlib.pyplot as plt\n",
        "from scipy.stats import skew,norm"
      ],
      "execution_count": 1,
      "outputs": []
    },
    {
      "cell_type": "markdown",
      "metadata": {
        "id": "rel4qpelVFLq"
      },
      "source": [
        "# importing necessary libraries"
      ]
    },
    {
      "cell_type": "code",
      "metadata": {
        "id": "SdZDsDGIfXAE"
      },
      "source": [
        "from sklearn.model_selection import train_test_split\n",
        "from sklearn import linear_model\n",
        "import warnings\n",
        "warnings.filterwarnings('ignore')\n",
        "\n",
        "%matplotlib inline"
      ],
      "execution_count": 2,
      "outputs": []
    },
    {
      "cell_type": "markdown",
      "metadata": {
        "id": "jv78f-UzVKTf"
      },
      "source": [
        "# data processing and wrangling"
      ]
    },
    {
      "cell_type": "code",
      "metadata": {
        "id": "TpP1hWyUf0Os",
        "outputId": "185e1dd9-ab01-44ed-9925-a9d6572a8b39",
        "colab": {
          "base_uri": "https://localhost:8080/",
          "height": 357
        }
      },
      "source": [
        "train = pd.read_csv(\"train.csv\")\n",
        "test = pd.read_csv(\"test.csv\")\n",
        "train.head()\n"
      ],
      "execution_count": 3,
      "outputs": [
        {
          "output_type": "execute_result",
          "data": {
            "text/plain": [
              "   Id        date  company_code    company  yesterday_price   open   last  \\\n",
              "0   0  2018-01-02        725001      ADWYA             5.35   5.25   5.39   \n",
              "1   1  2018-01-02        340005  AMEN BANK            24.35  24.38  24.00   \n",
              "2   2  2018-01-02        730001      ARTES             6.20   6.27   6.10   \n",
              "3   3  2018-01-02        714001      ASSAD             9.00   0.00   0.00   \n",
              "4   4  2018-01-02        360035        ATB             4.22   4.15   4.18   \n",
              "\n",
              "   close    low   high  qty_traded  num_trades      value  next_day_ret  \n",
              "0   5.39   5.25   5.39        2926           7   15635.50   -161.101159  \n",
              "1  24.00  24.00  24.38        1519          12   36918.00    -91.056323  \n",
              "2   6.10   6.09   6.27       35875          67  219020.05    159.011983  \n",
              "3   9.00   0.00   0.00           0           0        NaN    -98.000768  \n",
              "4   4.18   4.15   4.18        3705           7   15465.90   -158.659992  "
            ],
            "text/html": [
              "\n",
              "  <div id=\"df-3d5a5c61-fb48-41a2-af96-12aa7a7014b2\">\n",
              "    <div class=\"colab-df-container\">\n",
              "      <div>\n",
              "<style scoped>\n",
              "    .dataframe tbody tr th:only-of-type {\n",
              "        vertical-align: middle;\n",
              "    }\n",
              "\n",
              "    .dataframe tbody tr th {\n",
              "        vertical-align: top;\n",
              "    }\n",
              "\n",
              "    .dataframe thead th {\n",
              "        text-align: right;\n",
              "    }\n",
              "</style>\n",
              "<table border=\"1\" class=\"dataframe\">\n",
              "  <thead>\n",
              "    <tr style=\"text-align: right;\">\n",
              "      <th></th>\n",
              "      <th>Id</th>\n",
              "      <th>date</th>\n",
              "      <th>company_code</th>\n",
              "      <th>company</th>\n",
              "      <th>yesterday_price</th>\n",
              "      <th>open</th>\n",
              "      <th>last</th>\n",
              "      <th>close</th>\n",
              "      <th>low</th>\n",
              "      <th>high</th>\n",
              "      <th>qty_traded</th>\n",
              "      <th>num_trades</th>\n",
              "      <th>value</th>\n",
              "      <th>next_day_ret</th>\n",
              "    </tr>\n",
              "  </thead>\n",
              "  <tbody>\n",
              "    <tr>\n",
              "      <th>0</th>\n",
              "      <td>0</td>\n",
              "      <td>2018-01-02</td>\n",
              "      <td>725001</td>\n",
              "      <td>ADWYA</td>\n",
              "      <td>5.35</td>\n",
              "      <td>5.25</td>\n",
              "      <td>5.39</td>\n",
              "      <td>5.39</td>\n",
              "      <td>5.25</td>\n",
              "      <td>5.39</td>\n",
              "      <td>2926</td>\n",
              "      <td>7</td>\n",
              "      <td>15635.50</td>\n",
              "      <td>-161.101159</td>\n",
              "    </tr>\n",
              "    <tr>\n",
              "      <th>1</th>\n",
              "      <td>1</td>\n",
              "      <td>2018-01-02</td>\n",
              "      <td>340005</td>\n",
              "      <td>AMEN BANK</td>\n",
              "      <td>24.35</td>\n",
              "      <td>24.38</td>\n",
              "      <td>24.00</td>\n",
              "      <td>24.00</td>\n",
              "      <td>24.00</td>\n",
              "      <td>24.38</td>\n",
              "      <td>1519</td>\n",
              "      <td>12</td>\n",
              "      <td>36918.00</td>\n",
              "      <td>-91.056323</td>\n",
              "    </tr>\n",
              "    <tr>\n",
              "      <th>2</th>\n",
              "      <td>2</td>\n",
              "      <td>2018-01-02</td>\n",
              "      <td>730001</td>\n",
              "      <td>ARTES</td>\n",
              "      <td>6.20</td>\n",
              "      <td>6.27</td>\n",
              "      <td>6.10</td>\n",
              "      <td>6.10</td>\n",
              "      <td>6.09</td>\n",
              "      <td>6.27</td>\n",
              "      <td>35875</td>\n",
              "      <td>67</td>\n",
              "      <td>219020.05</td>\n",
              "      <td>159.011983</td>\n",
              "    </tr>\n",
              "    <tr>\n",
              "      <th>3</th>\n",
              "      <td>3</td>\n",
              "      <td>2018-01-02</td>\n",
              "      <td>714001</td>\n",
              "      <td>ASSAD</td>\n",
              "      <td>9.00</td>\n",
              "      <td>0.00</td>\n",
              "      <td>0.00</td>\n",
              "      <td>9.00</td>\n",
              "      <td>0.00</td>\n",
              "      <td>0.00</td>\n",
              "      <td>0</td>\n",
              "      <td>0</td>\n",
              "      <td>NaN</td>\n",
              "      <td>-98.000768</td>\n",
              "    </tr>\n",
              "    <tr>\n",
              "      <th>4</th>\n",
              "      <td>4</td>\n",
              "      <td>2018-01-02</td>\n",
              "      <td>360035</td>\n",
              "      <td>ATB</td>\n",
              "      <td>4.22</td>\n",
              "      <td>4.15</td>\n",
              "      <td>4.18</td>\n",
              "      <td>4.18</td>\n",
              "      <td>4.15</td>\n",
              "      <td>4.18</td>\n",
              "      <td>3705</td>\n",
              "      <td>7</td>\n",
              "      <td>15465.90</td>\n",
              "      <td>-158.659992</td>\n",
              "    </tr>\n",
              "  </tbody>\n",
              "</table>\n",
              "</div>\n",
              "      <button class=\"colab-df-convert\" onclick=\"convertToInteractive('df-3d5a5c61-fb48-41a2-af96-12aa7a7014b2')\"\n",
              "              title=\"Convert this dataframe to an interactive table.\"\n",
              "              style=\"display:none;\">\n",
              "        \n",
              "  <svg xmlns=\"http://www.w3.org/2000/svg\" height=\"24px\"viewBox=\"0 0 24 24\"\n",
              "       width=\"24px\">\n",
              "    <path d=\"M0 0h24v24H0V0z\" fill=\"none\"/>\n",
              "    <path d=\"M18.56 5.44l.94 2.06.94-2.06 2.06-.94-2.06-.94-.94-2.06-.94 2.06-2.06.94zm-11 1L8.5 8.5l.94-2.06 2.06-.94-2.06-.94L8.5 2.5l-.94 2.06-2.06.94zm10 10l.94 2.06.94-2.06 2.06-.94-2.06-.94-.94-2.06-.94 2.06-2.06.94z\"/><path d=\"M17.41 7.96l-1.37-1.37c-.4-.4-.92-.59-1.43-.59-.52 0-1.04.2-1.43.59L10.3 9.45l-7.72 7.72c-.78.78-.78 2.05 0 2.83L4 21.41c.39.39.9.59 1.41.59.51 0 1.02-.2 1.41-.59l7.78-7.78 2.81-2.81c.8-.78.8-2.07 0-2.86zM5.41 20L4 18.59l7.72-7.72 1.47 1.35L5.41 20z\"/>\n",
              "  </svg>\n",
              "      </button>\n",
              "      \n",
              "  <style>\n",
              "    .colab-df-container {\n",
              "      display:flex;\n",
              "      flex-wrap:wrap;\n",
              "      gap: 12px;\n",
              "    }\n",
              "\n",
              "    .colab-df-convert {\n",
              "      background-color: #E8F0FE;\n",
              "      border: none;\n",
              "      border-radius: 50%;\n",
              "      cursor: pointer;\n",
              "      display: none;\n",
              "      fill: #1967D2;\n",
              "      height: 32px;\n",
              "      padding: 0 0 0 0;\n",
              "      width: 32px;\n",
              "    }\n",
              "\n",
              "    .colab-df-convert:hover {\n",
              "      background-color: #E2EBFA;\n",
              "      box-shadow: 0px 1px 2px rgba(60, 64, 67, 0.3), 0px 1px 3px 1px rgba(60, 64, 67, 0.15);\n",
              "      fill: #174EA6;\n",
              "    }\n",
              "\n",
              "    [theme=dark] .colab-df-convert {\n",
              "      background-color: #3B4455;\n",
              "      fill: #D2E3FC;\n",
              "    }\n",
              "\n",
              "    [theme=dark] .colab-df-convert:hover {\n",
              "      background-color: #434B5C;\n",
              "      box-shadow: 0px 1px 3px 1px rgba(0, 0, 0, 0.15);\n",
              "      filter: drop-shadow(0px 1px 2px rgba(0, 0, 0, 0.3));\n",
              "      fill: #FFFFFF;\n",
              "    }\n",
              "  </style>\n",
              "\n",
              "      <script>\n",
              "        const buttonEl =\n",
              "          document.querySelector('#df-3d5a5c61-fb48-41a2-af96-12aa7a7014b2 button.colab-df-convert');\n",
              "        buttonEl.style.display =\n",
              "          google.colab.kernel.accessAllowed ? 'block' : 'none';\n",
              "\n",
              "        async function convertToInteractive(key) {\n",
              "          const element = document.querySelector('#df-3d5a5c61-fb48-41a2-af96-12aa7a7014b2');\n",
              "          const dataTable =\n",
              "            await google.colab.kernel.invokeFunction('convertToInteractive',\n",
              "                                                     [key], {});\n",
              "          if (!dataTable) return;\n",
              "\n",
              "          const docLinkHtml = 'Like what you see? Visit the ' +\n",
              "            '<a target=\"_blank\" href=https://colab.research.google.com/notebooks/data_table.ipynb>data table notebook</a>'\n",
              "            + ' to learn more about interactive tables.';\n",
              "          element.innerHTML = '';\n",
              "          dataTable['output_type'] = 'display_data';\n",
              "          await google.colab.output.renderOutput(dataTable, element);\n",
              "          const docLink = document.createElement('div');\n",
              "          docLink.innerHTML = docLinkHtml;\n",
              "          element.appendChild(docLink);\n",
              "        }\n",
              "      </script>\n",
              "    </div>\n",
              "  </div>\n",
              "  "
            ]
          },
          "metadata": {},
          "execution_count": 3
        }
      ]
    },
    {
      "cell_type": "code",
      "metadata": {
        "id": "xOoVbVItgNmx",
        "outputId": "69f6dc7c-0bd4-48c1-8c3e-6bbe7f039cc0",
        "colab": {
          "base_uri": "https://localhost:8080/",
          "height": 337
        }
      },
      "source": [
        "test.head() "
      ],
      "execution_count": 4,
      "outputs": [
        {
          "output_type": "execute_result",
          "data": {
            "text/plain": [
              "      Id        date  company_code    company  yesterday_price   open   last  \\\n",
              "0  20417  2019-01-02        725001      ADWYA             4.70   4.80   4.80   \n",
              "1  20418  2019-01-02        340005  AMEN BANK            27.80  27.80  27.75   \n",
              "2  20419  2019-01-02        730001      ARTES             6.27   6.27   6.28   \n",
              "3  20420  2019-01-02        714001      ASSAD             7.80   7.79   8.02   \n",
              "4  20421  2019-01-02        360035        ATB             3.66   3.76   3.65   \n",
              "\n",
              "   close    low   high  qty_traded  num_trades      value  \n",
              "0   4.80   4.80   4.80        4296           5   20620.80  \n",
              "1  27.75  27.50  27.80         261           9    7240.06  \n",
              "2   6.28   6.27   6.29        2532           4   15924.09  \n",
              "3   8.02   7.78   8.02       14878          62  118592.33  \n",
              "4   3.65   3.65   3.87         533          13    1948.72  "
            ],
            "text/html": [
              "\n",
              "  <div id=\"df-8a9e8d59-5eb0-4ad2-9720-a142c071dfe2\">\n",
              "    <div class=\"colab-df-container\">\n",
              "      <div>\n",
              "<style scoped>\n",
              "    .dataframe tbody tr th:only-of-type {\n",
              "        vertical-align: middle;\n",
              "    }\n",
              "\n",
              "    .dataframe tbody tr th {\n",
              "        vertical-align: top;\n",
              "    }\n",
              "\n",
              "    .dataframe thead th {\n",
              "        text-align: right;\n",
              "    }\n",
              "</style>\n",
              "<table border=\"1\" class=\"dataframe\">\n",
              "  <thead>\n",
              "    <tr style=\"text-align: right;\">\n",
              "      <th></th>\n",
              "      <th>Id</th>\n",
              "      <th>date</th>\n",
              "      <th>company_code</th>\n",
              "      <th>company</th>\n",
              "      <th>yesterday_price</th>\n",
              "      <th>open</th>\n",
              "      <th>last</th>\n",
              "      <th>close</th>\n",
              "      <th>low</th>\n",
              "      <th>high</th>\n",
              "      <th>qty_traded</th>\n",
              "      <th>num_trades</th>\n",
              "      <th>value</th>\n",
              "    </tr>\n",
              "  </thead>\n",
              "  <tbody>\n",
              "    <tr>\n",
              "      <th>0</th>\n",
              "      <td>20417</td>\n",
              "      <td>2019-01-02</td>\n",
              "      <td>725001</td>\n",
              "      <td>ADWYA</td>\n",
              "      <td>4.70</td>\n",
              "      <td>4.80</td>\n",
              "      <td>4.80</td>\n",
              "      <td>4.80</td>\n",
              "      <td>4.80</td>\n",
              "      <td>4.80</td>\n",
              "      <td>4296</td>\n",
              "      <td>5</td>\n",
              "      <td>20620.80</td>\n",
              "    </tr>\n",
              "    <tr>\n",
              "      <th>1</th>\n",
              "      <td>20418</td>\n",
              "      <td>2019-01-02</td>\n",
              "      <td>340005</td>\n",
              "      <td>AMEN BANK</td>\n",
              "      <td>27.80</td>\n",
              "      <td>27.80</td>\n",
              "      <td>27.75</td>\n",
              "      <td>27.75</td>\n",
              "      <td>27.50</td>\n",
              "      <td>27.80</td>\n",
              "      <td>261</td>\n",
              "      <td>9</td>\n",
              "      <td>7240.06</td>\n",
              "    </tr>\n",
              "    <tr>\n",
              "      <th>2</th>\n",
              "      <td>20419</td>\n",
              "      <td>2019-01-02</td>\n",
              "      <td>730001</td>\n",
              "      <td>ARTES</td>\n",
              "      <td>6.27</td>\n",
              "      <td>6.27</td>\n",
              "      <td>6.28</td>\n",
              "      <td>6.28</td>\n",
              "      <td>6.27</td>\n",
              "      <td>6.29</td>\n",
              "      <td>2532</td>\n",
              "      <td>4</td>\n",
              "      <td>15924.09</td>\n",
              "    </tr>\n",
              "    <tr>\n",
              "      <th>3</th>\n",
              "      <td>20420</td>\n",
              "      <td>2019-01-02</td>\n",
              "      <td>714001</td>\n",
              "      <td>ASSAD</td>\n",
              "      <td>7.80</td>\n",
              "      <td>7.79</td>\n",
              "      <td>8.02</td>\n",
              "      <td>8.02</td>\n",
              "      <td>7.78</td>\n",
              "      <td>8.02</td>\n",
              "      <td>14878</td>\n",
              "      <td>62</td>\n",
              "      <td>118592.33</td>\n",
              "    </tr>\n",
              "    <tr>\n",
              "      <th>4</th>\n",
              "      <td>20421</td>\n",
              "      <td>2019-01-02</td>\n",
              "      <td>360035</td>\n",
              "      <td>ATB</td>\n",
              "      <td>3.66</td>\n",
              "      <td>3.76</td>\n",
              "      <td>3.65</td>\n",
              "      <td>3.65</td>\n",
              "      <td>3.65</td>\n",
              "      <td>3.87</td>\n",
              "      <td>533</td>\n",
              "      <td>13</td>\n",
              "      <td>1948.72</td>\n",
              "    </tr>\n",
              "  </tbody>\n",
              "</table>\n",
              "</div>\n",
              "      <button class=\"colab-df-convert\" onclick=\"convertToInteractive('df-8a9e8d59-5eb0-4ad2-9720-a142c071dfe2')\"\n",
              "              title=\"Convert this dataframe to an interactive table.\"\n",
              "              style=\"display:none;\">\n",
              "        \n",
              "  <svg xmlns=\"http://www.w3.org/2000/svg\" height=\"24px\"viewBox=\"0 0 24 24\"\n",
              "       width=\"24px\">\n",
              "    <path d=\"M0 0h24v24H0V0z\" fill=\"none\"/>\n",
              "    <path d=\"M18.56 5.44l.94 2.06.94-2.06 2.06-.94-2.06-.94-.94-2.06-.94 2.06-2.06.94zm-11 1L8.5 8.5l.94-2.06 2.06-.94-2.06-.94L8.5 2.5l-.94 2.06-2.06.94zm10 10l.94 2.06.94-2.06 2.06-.94-2.06-.94-.94-2.06-.94 2.06-2.06.94z\"/><path d=\"M17.41 7.96l-1.37-1.37c-.4-.4-.92-.59-1.43-.59-.52 0-1.04.2-1.43.59L10.3 9.45l-7.72 7.72c-.78.78-.78 2.05 0 2.83L4 21.41c.39.39.9.59 1.41.59.51 0 1.02-.2 1.41-.59l7.78-7.78 2.81-2.81c.8-.78.8-2.07 0-2.86zM5.41 20L4 18.59l7.72-7.72 1.47 1.35L5.41 20z\"/>\n",
              "  </svg>\n",
              "      </button>\n",
              "      \n",
              "  <style>\n",
              "    .colab-df-container {\n",
              "      display:flex;\n",
              "      flex-wrap:wrap;\n",
              "      gap: 12px;\n",
              "    }\n",
              "\n",
              "    .colab-df-convert {\n",
              "      background-color: #E8F0FE;\n",
              "      border: none;\n",
              "      border-radius: 50%;\n",
              "      cursor: pointer;\n",
              "      display: none;\n",
              "      fill: #1967D2;\n",
              "      height: 32px;\n",
              "      padding: 0 0 0 0;\n",
              "      width: 32px;\n",
              "    }\n",
              "\n",
              "    .colab-df-convert:hover {\n",
              "      background-color: #E2EBFA;\n",
              "      box-shadow: 0px 1px 2px rgba(60, 64, 67, 0.3), 0px 1px 3px 1px rgba(60, 64, 67, 0.15);\n",
              "      fill: #174EA6;\n",
              "    }\n",
              "\n",
              "    [theme=dark] .colab-df-convert {\n",
              "      background-color: #3B4455;\n",
              "      fill: #D2E3FC;\n",
              "    }\n",
              "\n",
              "    [theme=dark] .colab-df-convert:hover {\n",
              "      background-color: #434B5C;\n",
              "      box-shadow: 0px 1px 3px 1px rgba(0, 0, 0, 0.15);\n",
              "      filter: drop-shadow(0px 1px 2px rgba(0, 0, 0, 0.3));\n",
              "      fill: #FFFFFF;\n",
              "    }\n",
              "  </style>\n",
              "\n",
              "      <script>\n",
              "        const buttonEl =\n",
              "          document.querySelector('#df-8a9e8d59-5eb0-4ad2-9720-a142c071dfe2 button.colab-df-convert');\n",
              "        buttonEl.style.display =\n",
              "          google.colab.kernel.accessAllowed ? 'block' : 'none';\n",
              "\n",
              "        async function convertToInteractive(key) {\n",
              "          const element = document.querySelector('#df-8a9e8d59-5eb0-4ad2-9720-a142c071dfe2');\n",
              "          const dataTable =\n",
              "            await google.colab.kernel.invokeFunction('convertToInteractive',\n",
              "                                                     [key], {});\n",
              "          if (!dataTable) return;\n",
              "\n",
              "          const docLinkHtml = 'Like what you see? Visit the ' +\n",
              "            '<a target=\"_blank\" href=https://colab.research.google.com/notebooks/data_table.ipynb>data table notebook</a>'\n",
              "            + ' to learn more about interactive tables.';\n",
              "          element.innerHTML = '';\n",
              "          dataTable['output_type'] = 'display_data';\n",
              "          await google.colab.output.renderOutput(dataTable, element);\n",
              "          const docLink = document.createElement('div');\n",
              "          docLink.innerHTML = docLinkHtml;\n",
              "          element.appendChild(docLink);\n",
              "        }\n",
              "      </script>\n",
              "    </div>\n",
              "  </div>\n",
              "  "
            ]
          },
          "metadata": {},
          "execution_count": 4
        }
      ]
    },
    {
      "cell_type": "code",
      "metadata": {
        "id": "WMV5asTigRNH",
        "outputId": "7637cfa7-124e-4d35-bdb4-9fe41f83ff89",
        "colab": {
          "base_uri": "https://localhost:8080/"
        }
      },
      "source": [
        "train.shape\n"
      ],
      "execution_count": 5,
      "outputs": [
        {
          "output_type": "execute_result",
          "data": {
            "text/plain": [
              "(20417, 14)"
            ]
          },
          "metadata": {},
          "execution_count": 5
        }
      ]
    },
    {
      "cell_type": "code",
      "metadata": {
        "id": "Mewkl7MsgUdB",
        "outputId": "0102eba2-73e1-4756-827c-36750a5f8907",
        "colab": {
          "base_uri": "https://localhost:8080/"
        }
      },
      "source": [
        "test.shape"
      ],
      "execution_count": 6,
      "outputs": [
        {
          "output_type": "execute_result",
          "data": {
            "text/plain": [
              "(20331, 13)"
            ]
          },
          "metadata": {},
          "execution_count": 6
        }
      ]
    },
    {
      "cell_type": "code",
      "metadata": {
        "id": "1ZE5-r6BgYcJ",
        "outputId": "782beb36-1d45-4620-becb-dede22e22b51",
        "colab": {
          "base_uri": "https://localhost:8080/"
        }
      },
      "source": [
        "train.info()"
      ],
      "execution_count": 7,
      "outputs": [
        {
          "output_type": "stream",
          "name": "stdout",
          "text": [
            "<class 'pandas.core.frame.DataFrame'>\n",
            "RangeIndex: 20417 entries, 0 to 20416\n",
            "Data columns (total 14 columns):\n",
            " #   Column           Non-Null Count  Dtype  \n",
            "---  ------           --------------  -----  \n",
            " 0   Id               20417 non-null  int64  \n",
            " 1   date             20417 non-null  object \n",
            " 2   company_code     20417 non-null  int64  \n",
            " 3   company          20417 non-null  object \n",
            " 4   yesterday_price  20417 non-null  float64\n",
            " 5   open             20417 non-null  float64\n",
            " 6   last             20417 non-null  float64\n",
            " 7   close            20417 non-null  float64\n",
            " 8   low              20417 non-null  float64\n",
            " 9   high             20417 non-null  float64\n",
            " 10  qty_traded       20417 non-null  int64  \n",
            " 11  num_trades       20417 non-null  int64  \n",
            " 12  value            15925 non-null  float64\n",
            " 13  next_day_ret     20417 non-null  float64\n",
            "dtypes: float64(8), int64(4), object(2)\n",
            "memory usage: 2.2+ MB\n"
          ]
        }
      ]
    },
    {
      "cell_type": "code",
      "metadata": {
        "id": "epWcxPSSgaw-",
        "outputId": "c27d3d24-5360-4d20-84c9-2a79bf9e5b83",
        "colab": {
          "base_uri": "https://localhost:8080/",
          "height": 364
        }
      },
      "source": [
        "train.describe()"
      ],
      "execution_count": 8,
      "outputs": [
        {
          "output_type": "execute_result",
          "data": {
            "text/plain": [
              "                 Id   company_code  yesterday_price          open  \\\n",
              "count  20417.000000   20417.000000     20417.000000  20417.000000   \n",
              "mean   10208.000000  570247.146202        14.669424     11.512765   \n",
              "std     5894.024559  223445.582068        24.865249     23.860609   \n",
              "min        0.000000  100010.000000         0.260000      0.000000   \n",
              "25%     5104.000000  380070.000000         2.590000      0.650000   \n",
              "50%    10208.000000  672004.000000         6.360000      3.920000   \n",
              "75%    15312.000000  751001.000000        15.100000     11.300000   \n",
              "max    20416.000000  774001.000000       180.000000    178.000000   \n",
              "\n",
              "               last         close           low          high    qty_traded  \\\n",
              "count  20417.000000  20417.000000  20417.000000  20417.000000  2.041700e+04   \n",
              "mean      11.525388     14.680415     11.431311     11.593840  1.200487e+04   \n",
              "std       23.886987     24.900786     23.700131     24.033221  7.192206e+04   \n",
              "min        0.000000      0.260000      0.000000      0.000000  0.000000e+00   \n",
              "25%        0.650000      2.580000      0.650000      0.650000  1.800000e+01   \n",
              "50%        3.920000      6.360000      3.900000      3.960000  1.184000e+03   \n",
              "75%       11.300000     15.100000     11.200000     11.350000  6.643000e+03   \n",
              "max      180.000000    180.000000    178.000000    181.000000  5.440020e+06   \n",
              "\n",
              "         num_trades         value  next_day_ret  \n",
              "count  20417.000000  1.592500e+04  20417.000000  \n",
              "mean      23.025175  1.165751e+05     -4.913852  \n",
              "std       43.242036  1.230522e+06    192.123713  \n",
              "min        0.000000  4.000000e-01  -9984.166026  \n",
              "25%        1.000000  3.332750e+03    -79.763832  \n",
              "50%        8.000000  1.721655e+04    -10.550777  \n",
              "75%       27.000000  7.035857e+04     59.816971  \n",
              "max      906.000000  1.224547e+08    718.817714  "
            ],
            "text/html": [
              "\n",
              "  <div id=\"df-27528d13-d89b-4103-9579-e6540ebc9eef\">\n",
              "    <div class=\"colab-df-container\">\n",
              "      <div>\n",
              "<style scoped>\n",
              "    .dataframe tbody tr th:only-of-type {\n",
              "        vertical-align: middle;\n",
              "    }\n",
              "\n",
              "    .dataframe tbody tr th {\n",
              "        vertical-align: top;\n",
              "    }\n",
              "\n",
              "    .dataframe thead th {\n",
              "        text-align: right;\n",
              "    }\n",
              "</style>\n",
              "<table border=\"1\" class=\"dataframe\">\n",
              "  <thead>\n",
              "    <tr style=\"text-align: right;\">\n",
              "      <th></th>\n",
              "      <th>Id</th>\n",
              "      <th>company_code</th>\n",
              "      <th>yesterday_price</th>\n",
              "      <th>open</th>\n",
              "      <th>last</th>\n",
              "      <th>close</th>\n",
              "      <th>low</th>\n",
              "      <th>high</th>\n",
              "      <th>qty_traded</th>\n",
              "      <th>num_trades</th>\n",
              "      <th>value</th>\n",
              "      <th>next_day_ret</th>\n",
              "    </tr>\n",
              "  </thead>\n",
              "  <tbody>\n",
              "    <tr>\n",
              "      <th>count</th>\n",
              "      <td>20417.000000</td>\n",
              "      <td>20417.000000</td>\n",
              "      <td>20417.000000</td>\n",
              "      <td>20417.000000</td>\n",
              "      <td>20417.000000</td>\n",
              "      <td>20417.000000</td>\n",
              "      <td>20417.000000</td>\n",
              "      <td>20417.000000</td>\n",
              "      <td>2.041700e+04</td>\n",
              "      <td>20417.000000</td>\n",
              "      <td>1.592500e+04</td>\n",
              "      <td>20417.000000</td>\n",
              "    </tr>\n",
              "    <tr>\n",
              "      <th>mean</th>\n",
              "      <td>10208.000000</td>\n",
              "      <td>570247.146202</td>\n",
              "      <td>14.669424</td>\n",
              "      <td>11.512765</td>\n",
              "      <td>11.525388</td>\n",
              "      <td>14.680415</td>\n",
              "      <td>11.431311</td>\n",
              "      <td>11.593840</td>\n",
              "      <td>1.200487e+04</td>\n",
              "      <td>23.025175</td>\n",
              "      <td>1.165751e+05</td>\n",
              "      <td>-4.913852</td>\n",
              "    </tr>\n",
              "    <tr>\n",
              "      <th>std</th>\n",
              "      <td>5894.024559</td>\n",
              "      <td>223445.582068</td>\n",
              "      <td>24.865249</td>\n",
              "      <td>23.860609</td>\n",
              "      <td>23.886987</td>\n",
              "      <td>24.900786</td>\n",
              "      <td>23.700131</td>\n",
              "      <td>24.033221</td>\n",
              "      <td>7.192206e+04</td>\n",
              "      <td>43.242036</td>\n",
              "      <td>1.230522e+06</td>\n",
              "      <td>192.123713</td>\n",
              "    </tr>\n",
              "    <tr>\n",
              "      <th>min</th>\n",
              "      <td>0.000000</td>\n",
              "      <td>100010.000000</td>\n",
              "      <td>0.260000</td>\n",
              "      <td>0.000000</td>\n",
              "      <td>0.000000</td>\n",
              "      <td>0.260000</td>\n",
              "      <td>0.000000</td>\n",
              "      <td>0.000000</td>\n",
              "      <td>0.000000e+00</td>\n",
              "      <td>0.000000</td>\n",
              "      <td>4.000000e-01</td>\n",
              "      <td>-9984.166026</td>\n",
              "    </tr>\n",
              "    <tr>\n",
              "      <th>25%</th>\n",
              "      <td>5104.000000</td>\n",
              "      <td>380070.000000</td>\n",
              "      <td>2.590000</td>\n",
              "      <td>0.650000</td>\n",
              "      <td>0.650000</td>\n",
              "      <td>2.580000</td>\n",
              "      <td>0.650000</td>\n",
              "      <td>0.650000</td>\n",
              "      <td>1.800000e+01</td>\n",
              "      <td>1.000000</td>\n",
              "      <td>3.332750e+03</td>\n",
              "      <td>-79.763832</td>\n",
              "    </tr>\n",
              "    <tr>\n",
              "      <th>50%</th>\n",
              "      <td>10208.000000</td>\n",
              "      <td>672004.000000</td>\n",
              "      <td>6.360000</td>\n",
              "      <td>3.920000</td>\n",
              "      <td>3.920000</td>\n",
              "      <td>6.360000</td>\n",
              "      <td>3.900000</td>\n",
              "      <td>3.960000</td>\n",
              "      <td>1.184000e+03</td>\n",
              "      <td>8.000000</td>\n",
              "      <td>1.721655e+04</td>\n",
              "      <td>-10.550777</td>\n",
              "    </tr>\n",
              "    <tr>\n",
              "      <th>75%</th>\n",
              "      <td>15312.000000</td>\n",
              "      <td>751001.000000</td>\n",
              "      <td>15.100000</td>\n",
              "      <td>11.300000</td>\n",
              "      <td>11.300000</td>\n",
              "      <td>15.100000</td>\n",
              "      <td>11.200000</td>\n",
              "      <td>11.350000</td>\n",
              "      <td>6.643000e+03</td>\n",
              "      <td>27.000000</td>\n",
              "      <td>7.035857e+04</td>\n",
              "      <td>59.816971</td>\n",
              "    </tr>\n",
              "    <tr>\n",
              "      <th>max</th>\n",
              "      <td>20416.000000</td>\n",
              "      <td>774001.000000</td>\n",
              "      <td>180.000000</td>\n",
              "      <td>178.000000</td>\n",
              "      <td>180.000000</td>\n",
              "      <td>180.000000</td>\n",
              "      <td>178.000000</td>\n",
              "      <td>181.000000</td>\n",
              "      <td>5.440020e+06</td>\n",
              "      <td>906.000000</td>\n",
              "      <td>1.224547e+08</td>\n",
              "      <td>718.817714</td>\n",
              "    </tr>\n",
              "  </tbody>\n",
              "</table>\n",
              "</div>\n",
              "      <button class=\"colab-df-convert\" onclick=\"convertToInteractive('df-27528d13-d89b-4103-9579-e6540ebc9eef')\"\n",
              "              title=\"Convert this dataframe to an interactive table.\"\n",
              "              style=\"display:none;\">\n",
              "        \n",
              "  <svg xmlns=\"http://www.w3.org/2000/svg\" height=\"24px\"viewBox=\"0 0 24 24\"\n",
              "       width=\"24px\">\n",
              "    <path d=\"M0 0h24v24H0V0z\" fill=\"none\"/>\n",
              "    <path d=\"M18.56 5.44l.94 2.06.94-2.06 2.06-.94-2.06-.94-.94-2.06-.94 2.06-2.06.94zm-11 1L8.5 8.5l.94-2.06 2.06-.94-2.06-.94L8.5 2.5l-.94 2.06-2.06.94zm10 10l.94 2.06.94-2.06 2.06-.94-2.06-.94-.94-2.06-.94 2.06-2.06.94z\"/><path d=\"M17.41 7.96l-1.37-1.37c-.4-.4-.92-.59-1.43-.59-.52 0-1.04.2-1.43.59L10.3 9.45l-7.72 7.72c-.78.78-.78 2.05 0 2.83L4 21.41c.39.39.9.59 1.41.59.51 0 1.02-.2 1.41-.59l7.78-7.78 2.81-2.81c.8-.78.8-2.07 0-2.86zM5.41 20L4 18.59l7.72-7.72 1.47 1.35L5.41 20z\"/>\n",
              "  </svg>\n",
              "      </button>\n",
              "      \n",
              "  <style>\n",
              "    .colab-df-container {\n",
              "      display:flex;\n",
              "      flex-wrap:wrap;\n",
              "      gap: 12px;\n",
              "    }\n",
              "\n",
              "    .colab-df-convert {\n",
              "      background-color: #E8F0FE;\n",
              "      border: none;\n",
              "      border-radius: 50%;\n",
              "      cursor: pointer;\n",
              "      display: none;\n",
              "      fill: #1967D2;\n",
              "      height: 32px;\n",
              "      padding: 0 0 0 0;\n",
              "      width: 32px;\n",
              "    }\n",
              "\n",
              "    .colab-df-convert:hover {\n",
              "      background-color: #E2EBFA;\n",
              "      box-shadow: 0px 1px 2px rgba(60, 64, 67, 0.3), 0px 1px 3px 1px rgba(60, 64, 67, 0.15);\n",
              "      fill: #174EA6;\n",
              "    }\n",
              "\n",
              "    [theme=dark] .colab-df-convert {\n",
              "      background-color: #3B4455;\n",
              "      fill: #D2E3FC;\n",
              "    }\n",
              "\n",
              "    [theme=dark] .colab-df-convert:hover {\n",
              "      background-color: #434B5C;\n",
              "      box-shadow: 0px 1px 3px 1px rgba(0, 0, 0, 0.15);\n",
              "      filter: drop-shadow(0px 1px 2px rgba(0, 0, 0, 0.3));\n",
              "      fill: #FFFFFF;\n",
              "    }\n",
              "  </style>\n",
              "\n",
              "      <script>\n",
              "        const buttonEl =\n",
              "          document.querySelector('#df-27528d13-d89b-4103-9579-e6540ebc9eef button.colab-df-convert');\n",
              "        buttonEl.style.display =\n",
              "          google.colab.kernel.accessAllowed ? 'block' : 'none';\n",
              "\n",
              "        async function convertToInteractive(key) {\n",
              "          const element = document.querySelector('#df-27528d13-d89b-4103-9579-e6540ebc9eef');\n",
              "          const dataTable =\n",
              "            await google.colab.kernel.invokeFunction('convertToInteractive',\n",
              "                                                     [key], {});\n",
              "          if (!dataTable) return;\n",
              "\n",
              "          const docLinkHtml = 'Like what you see? Visit the ' +\n",
              "            '<a target=\"_blank\" href=https://colab.research.google.com/notebooks/data_table.ipynb>data table notebook</a>'\n",
              "            + ' to learn more about interactive tables.';\n",
              "          element.innerHTML = '';\n",
              "          dataTable['output_type'] = 'display_data';\n",
              "          await google.colab.output.renderOutput(dataTable, element);\n",
              "          const docLink = document.createElement('div');\n",
              "          docLink.innerHTML = docLinkHtml;\n",
              "          element.appendChild(docLink);\n",
              "        }\n",
              "      </script>\n",
              "    </div>\n",
              "  </div>\n",
              "  "
            ]
          },
          "metadata": {},
          "execution_count": 8
        }
      ]
    },
    {
      "cell_type": "markdown",
      "metadata": {
        "id": "od541_ljVR6G"
      },
      "source": [
        "**Missing values** "
      ]
    },
    {
      "cell_type": "code",
      "metadata": {
        "id": "A6Pk2oTgge3j",
        "outputId": "a703b0c2-5725-4580-ba62-8c45fbccbdb8",
        "colab": {
          "base_uri": "https://localhost:8080/",
          "height": 81
        }
      },
      "source": [
        "#here i am looking at the ratio of missing values in each feature of the train set\n",
        "train_na = (train.isnull().sum() / len(train)) * 100\n",
        "train_na = train_na.drop(train_na[train_na == 0].index).sort_values(ascending=False)[:30]\n",
        "missing_data = pd.DataFrame({'Missing Ratio' :train_na})\n",
        "missing_data.head(20)"
      ],
      "execution_count": 9,
      "outputs": [
        {
          "output_type": "execute_result",
          "data": {
            "text/plain": [
              "       Missing Ratio\n",
              "value      22.001273"
            ],
            "text/html": [
              "\n",
              "  <div id=\"df-628d74c9-b3bf-455f-a417-c20be5907d89\">\n",
              "    <div class=\"colab-df-container\">\n",
              "      <div>\n",
              "<style scoped>\n",
              "    .dataframe tbody tr th:only-of-type {\n",
              "        vertical-align: middle;\n",
              "    }\n",
              "\n",
              "    .dataframe tbody tr th {\n",
              "        vertical-align: top;\n",
              "    }\n",
              "\n",
              "    .dataframe thead th {\n",
              "        text-align: right;\n",
              "    }\n",
              "</style>\n",
              "<table border=\"1\" class=\"dataframe\">\n",
              "  <thead>\n",
              "    <tr style=\"text-align: right;\">\n",
              "      <th></th>\n",
              "      <th>Missing Ratio</th>\n",
              "    </tr>\n",
              "  </thead>\n",
              "  <tbody>\n",
              "    <tr>\n",
              "      <th>value</th>\n",
              "      <td>22.001273</td>\n",
              "    </tr>\n",
              "  </tbody>\n",
              "</table>\n",
              "</div>\n",
              "      <button class=\"colab-df-convert\" onclick=\"convertToInteractive('df-628d74c9-b3bf-455f-a417-c20be5907d89')\"\n",
              "              title=\"Convert this dataframe to an interactive table.\"\n",
              "              style=\"display:none;\">\n",
              "        \n",
              "  <svg xmlns=\"http://www.w3.org/2000/svg\" height=\"24px\"viewBox=\"0 0 24 24\"\n",
              "       width=\"24px\">\n",
              "    <path d=\"M0 0h24v24H0V0z\" fill=\"none\"/>\n",
              "    <path d=\"M18.56 5.44l.94 2.06.94-2.06 2.06-.94-2.06-.94-.94-2.06-.94 2.06-2.06.94zm-11 1L8.5 8.5l.94-2.06 2.06-.94-2.06-.94L8.5 2.5l-.94 2.06-2.06.94zm10 10l.94 2.06.94-2.06 2.06-.94-2.06-.94-.94-2.06-.94 2.06-2.06.94z\"/><path d=\"M17.41 7.96l-1.37-1.37c-.4-.4-.92-.59-1.43-.59-.52 0-1.04.2-1.43.59L10.3 9.45l-7.72 7.72c-.78.78-.78 2.05 0 2.83L4 21.41c.39.39.9.59 1.41.59.51 0 1.02-.2 1.41-.59l7.78-7.78 2.81-2.81c.8-.78.8-2.07 0-2.86zM5.41 20L4 18.59l7.72-7.72 1.47 1.35L5.41 20z\"/>\n",
              "  </svg>\n",
              "      </button>\n",
              "      \n",
              "  <style>\n",
              "    .colab-df-container {\n",
              "      display:flex;\n",
              "      flex-wrap:wrap;\n",
              "      gap: 12px;\n",
              "    }\n",
              "\n",
              "    .colab-df-convert {\n",
              "      background-color: #E8F0FE;\n",
              "      border: none;\n",
              "      border-radius: 50%;\n",
              "      cursor: pointer;\n",
              "      display: none;\n",
              "      fill: #1967D2;\n",
              "      height: 32px;\n",
              "      padding: 0 0 0 0;\n",
              "      width: 32px;\n",
              "    }\n",
              "\n",
              "    .colab-df-convert:hover {\n",
              "      background-color: #E2EBFA;\n",
              "      box-shadow: 0px 1px 2px rgba(60, 64, 67, 0.3), 0px 1px 3px 1px rgba(60, 64, 67, 0.15);\n",
              "      fill: #174EA6;\n",
              "    }\n",
              "\n",
              "    [theme=dark] .colab-df-convert {\n",
              "      background-color: #3B4455;\n",
              "      fill: #D2E3FC;\n",
              "    }\n",
              "\n",
              "    [theme=dark] .colab-df-convert:hover {\n",
              "      background-color: #434B5C;\n",
              "      box-shadow: 0px 1px 3px 1px rgba(0, 0, 0, 0.15);\n",
              "      filter: drop-shadow(0px 1px 2px rgba(0, 0, 0, 0.3));\n",
              "      fill: #FFFFFF;\n",
              "    }\n",
              "  </style>\n",
              "\n",
              "      <script>\n",
              "        const buttonEl =\n",
              "          document.querySelector('#df-628d74c9-b3bf-455f-a417-c20be5907d89 button.colab-df-convert');\n",
              "        buttonEl.style.display =\n",
              "          google.colab.kernel.accessAllowed ? 'block' : 'none';\n",
              "\n",
              "        async function convertToInteractive(key) {\n",
              "          const element = document.querySelector('#df-628d74c9-b3bf-455f-a417-c20be5907d89');\n",
              "          const dataTable =\n",
              "            await google.colab.kernel.invokeFunction('convertToInteractive',\n",
              "                                                     [key], {});\n",
              "          if (!dataTable) return;\n",
              "\n",
              "          const docLinkHtml = 'Like what you see? Visit the ' +\n",
              "            '<a target=\"_blank\" href=https://colab.research.google.com/notebooks/data_table.ipynb>data table notebook</a>'\n",
              "            + ' to learn more about interactive tables.';\n",
              "          element.innerHTML = '';\n",
              "          dataTable['output_type'] = 'display_data';\n",
              "          await google.colab.output.renderOutput(dataTable, element);\n",
              "          const docLink = document.createElement('div');\n",
              "          docLink.innerHTML = docLinkHtml;\n",
              "          element.appendChild(docLink);\n",
              "        }\n",
              "      </script>\n",
              "    </div>\n",
              "  </div>\n",
              "  "
            ]
          },
          "metadata": {},
          "execution_count": 9
        }
      ]
    },
    {
      "cell_type": "code",
      "metadata": {
        "id": "bfi3XMYugs_G",
        "outputId": "26d1cce9-c885-4f8b-e2a8-5b540f5f8dac",
        "colab": {
          "base_uri": "https://localhost:8080/",
          "height": 81
        }
      },
      "source": [
        "#here i am looking at the ratio of missing values in each feature of the test set\n",
        "test_na = (test.isnull().sum() / len(test)) * 100\n",
        "test_na = test_na.drop(test_na[test_na == 0].index).sort_values(ascending=False)[:30]\n",
        "missing_data = pd.DataFrame({'Missing Ratio' :test_na})\n",
        "missing_data.head(20)"
      ],
      "execution_count": 10,
      "outputs": [
        {
          "output_type": "execute_result",
          "data": {
            "text/plain": [
              "       Missing Ratio\n",
              "value      27.347401"
            ],
            "text/html": [
              "\n",
              "  <div id=\"df-3c7daf3c-baed-4d25-a1b6-0bf705dd258b\">\n",
              "    <div class=\"colab-df-container\">\n",
              "      <div>\n",
              "<style scoped>\n",
              "    .dataframe tbody tr th:only-of-type {\n",
              "        vertical-align: middle;\n",
              "    }\n",
              "\n",
              "    .dataframe tbody tr th {\n",
              "        vertical-align: top;\n",
              "    }\n",
              "\n",
              "    .dataframe thead th {\n",
              "        text-align: right;\n",
              "    }\n",
              "</style>\n",
              "<table border=\"1\" class=\"dataframe\">\n",
              "  <thead>\n",
              "    <tr style=\"text-align: right;\">\n",
              "      <th></th>\n",
              "      <th>Missing Ratio</th>\n",
              "    </tr>\n",
              "  </thead>\n",
              "  <tbody>\n",
              "    <tr>\n",
              "      <th>value</th>\n",
              "      <td>27.347401</td>\n",
              "    </tr>\n",
              "  </tbody>\n",
              "</table>\n",
              "</div>\n",
              "      <button class=\"colab-df-convert\" onclick=\"convertToInteractive('df-3c7daf3c-baed-4d25-a1b6-0bf705dd258b')\"\n",
              "              title=\"Convert this dataframe to an interactive table.\"\n",
              "              style=\"display:none;\">\n",
              "        \n",
              "  <svg xmlns=\"http://www.w3.org/2000/svg\" height=\"24px\"viewBox=\"0 0 24 24\"\n",
              "       width=\"24px\">\n",
              "    <path d=\"M0 0h24v24H0V0z\" fill=\"none\"/>\n",
              "    <path d=\"M18.56 5.44l.94 2.06.94-2.06 2.06-.94-2.06-.94-.94-2.06-.94 2.06-2.06.94zm-11 1L8.5 8.5l.94-2.06 2.06-.94-2.06-.94L8.5 2.5l-.94 2.06-2.06.94zm10 10l.94 2.06.94-2.06 2.06-.94-2.06-.94-.94-2.06-.94 2.06-2.06.94z\"/><path d=\"M17.41 7.96l-1.37-1.37c-.4-.4-.92-.59-1.43-.59-.52 0-1.04.2-1.43.59L10.3 9.45l-7.72 7.72c-.78.78-.78 2.05 0 2.83L4 21.41c.39.39.9.59 1.41.59.51 0 1.02-.2 1.41-.59l7.78-7.78 2.81-2.81c.8-.78.8-2.07 0-2.86zM5.41 20L4 18.59l7.72-7.72 1.47 1.35L5.41 20z\"/>\n",
              "  </svg>\n",
              "      </button>\n",
              "      \n",
              "  <style>\n",
              "    .colab-df-container {\n",
              "      display:flex;\n",
              "      flex-wrap:wrap;\n",
              "      gap: 12px;\n",
              "    }\n",
              "\n",
              "    .colab-df-convert {\n",
              "      background-color: #E8F0FE;\n",
              "      border: none;\n",
              "      border-radius: 50%;\n",
              "      cursor: pointer;\n",
              "      display: none;\n",
              "      fill: #1967D2;\n",
              "      height: 32px;\n",
              "      padding: 0 0 0 0;\n",
              "      width: 32px;\n",
              "    }\n",
              "\n",
              "    .colab-df-convert:hover {\n",
              "      background-color: #E2EBFA;\n",
              "      box-shadow: 0px 1px 2px rgba(60, 64, 67, 0.3), 0px 1px 3px 1px rgba(60, 64, 67, 0.15);\n",
              "      fill: #174EA6;\n",
              "    }\n",
              "\n",
              "    [theme=dark] .colab-df-convert {\n",
              "      background-color: #3B4455;\n",
              "      fill: #D2E3FC;\n",
              "    }\n",
              "\n",
              "    [theme=dark] .colab-df-convert:hover {\n",
              "      background-color: #434B5C;\n",
              "      box-shadow: 0px 1px 3px 1px rgba(0, 0, 0, 0.15);\n",
              "      filter: drop-shadow(0px 1px 2px rgba(0, 0, 0, 0.3));\n",
              "      fill: #FFFFFF;\n",
              "    }\n",
              "  </style>\n",
              "\n",
              "      <script>\n",
              "        const buttonEl =\n",
              "          document.querySelector('#df-3c7daf3c-baed-4d25-a1b6-0bf705dd258b button.colab-df-convert');\n",
              "        buttonEl.style.display =\n",
              "          google.colab.kernel.accessAllowed ? 'block' : 'none';\n",
              "\n",
              "        async function convertToInteractive(key) {\n",
              "          const element = document.querySelector('#df-3c7daf3c-baed-4d25-a1b6-0bf705dd258b');\n",
              "          const dataTable =\n",
              "            await google.colab.kernel.invokeFunction('convertToInteractive',\n",
              "                                                     [key], {});\n",
              "          if (!dataTable) return;\n",
              "\n",
              "          const docLinkHtml = 'Like what you see? Visit the ' +\n",
              "            '<a target=\"_blank\" href=https://colab.research.google.com/notebooks/data_table.ipynb>data table notebook</a>'\n",
              "            + ' to learn more about interactive tables.';\n",
              "          element.innerHTML = '';\n",
              "          dataTable['output_type'] = 'display_data';\n",
              "          await google.colab.output.renderOutput(dataTable, element);\n",
              "          const docLink = document.createElement('div');\n",
              "          docLink.innerHTML = docLinkHtml;\n",
              "          element.appendChild(docLink);\n",
              "        }\n",
              "      </script>\n",
              "    </div>\n",
              "  </div>\n",
              "  "
            ]
          },
          "metadata": {},
          "execution_count": 10
        }
      ]
    },
    {
      "cell_type": "code",
      "metadata": {
        "id": "ZN4xpUzYgxmf"
      },
      "source": [
        "train[\"value\"]=train[\"value\"].fillna(train[\"value\"].mean())\n",
        "test[\"value\"]=test[\"value\"].fillna(test[\"value\"].mean())"
      ],
      "execution_count": 11,
      "outputs": []
    },
    {
      "cell_type": "code",
      "metadata": {
        "id": "XqiqopGEg1Q2",
        "outputId": "3cb4a9c1-7c84-4cb8-a3a3-959235b83381",
        "colab": {
          "base_uri": "https://localhost:8080/"
        }
      },
      "source": [
        "print (\" missing values in train\",train.isna().sum().sum())\n",
        "print (\" missing values in test\",test.isna().sum().sum())"
      ],
      "execution_count": 12,
      "outputs": [
        {
          "output_type": "stream",
          "name": "stdout",
          "text": [
            " missing values in train 0\n",
            " missing values in test 0\n"
          ]
        }
      ]
    },
    {
      "cell_type": "code",
      "metadata": {
        "id": "QmNS9qiMg5Al"
      },
      "source": [
        "# calculate daily return for every company in the train set\n",
        "train['currReturn']=train.groupby(['company'])['close'].pct_change()\n",
        "# calculate daily return for every company in the test set\n",
        "test['currReturn']=test.groupby(['company'])['close'].pct_change()\n",
        "\n"
      ],
      "execution_count": 13,
      "outputs": []
    },
    {
      "cell_type": "code",
      "metadata": {
        "id": "3LNnKmAihCvh",
        "outputId": "5eac2b00-31c5-4e60-8b1b-98b3450b2300",
        "colab": {
          "base_uri": "https://localhost:8080/",
          "height": 81
        }
      },
      "source": [
        "#here i am ploting the ratio of missing values in each feature of the train set\n",
        "train_na = (train.isnull().sum() / len(train)) * 100\n",
        "train_na = train_na.drop(train_na[train_na == 0].index).sort_values(ascending=False)[:30]\n",
        "missing_data = pd.DataFrame({'Missing Ratio' :train_na})\n",
        "missing_data.head(20)"
      ],
      "execution_count": 14,
      "outputs": [
        {
          "output_type": "execute_result",
          "data": {
            "text/plain": [
              "            Missing Ratio\n",
              "currReturn       0.401626"
            ],
            "text/html": [
              "\n",
              "  <div id=\"df-533a8e7b-827a-4c79-b4e5-7695bdb79add\">\n",
              "    <div class=\"colab-df-container\">\n",
              "      <div>\n",
              "<style scoped>\n",
              "    .dataframe tbody tr th:only-of-type {\n",
              "        vertical-align: middle;\n",
              "    }\n",
              "\n",
              "    .dataframe tbody tr th {\n",
              "        vertical-align: top;\n",
              "    }\n",
              "\n",
              "    .dataframe thead th {\n",
              "        text-align: right;\n",
              "    }\n",
              "</style>\n",
              "<table border=\"1\" class=\"dataframe\">\n",
              "  <thead>\n",
              "    <tr style=\"text-align: right;\">\n",
              "      <th></th>\n",
              "      <th>Missing Ratio</th>\n",
              "    </tr>\n",
              "  </thead>\n",
              "  <tbody>\n",
              "    <tr>\n",
              "      <th>currReturn</th>\n",
              "      <td>0.401626</td>\n",
              "    </tr>\n",
              "  </tbody>\n",
              "</table>\n",
              "</div>\n",
              "      <button class=\"colab-df-convert\" onclick=\"convertToInteractive('df-533a8e7b-827a-4c79-b4e5-7695bdb79add')\"\n",
              "              title=\"Convert this dataframe to an interactive table.\"\n",
              "              style=\"display:none;\">\n",
              "        \n",
              "  <svg xmlns=\"http://www.w3.org/2000/svg\" height=\"24px\"viewBox=\"0 0 24 24\"\n",
              "       width=\"24px\">\n",
              "    <path d=\"M0 0h24v24H0V0z\" fill=\"none\"/>\n",
              "    <path d=\"M18.56 5.44l.94 2.06.94-2.06 2.06-.94-2.06-.94-.94-2.06-.94 2.06-2.06.94zm-11 1L8.5 8.5l.94-2.06 2.06-.94-2.06-.94L8.5 2.5l-.94 2.06-2.06.94zm10 10l.94 2.06.94-2.06 2.06-.94-2.06-.94-.94-2.06-.94 2.06-2.06.94z\"/><path d=\"M17.41 7.96l-1.37-1.37c-.4-.4-.92-.59-1.43-.59-.52 0-1.04.2-1.43.59L10.3 9.45l-7.72 7.72c-.78.78-.78 2.05 0 2.83L4 21.41c.39.39.9.59 1.41.59.51 0 1.02-.2 1.41-.59l7.78-7.78 2.81-2.81c.8-.78.8-2.07 0-2.86zM5.41 20L4 18.59l7.72-7.72 1.47 1.35L5.41 20z\"/>\n",
              "  </svg>\n",
              "      </button>\n",
              "      \n",
              "  <style>\n",
              "    .colab-df-container {\n",
              "      display:flex;\n",
              "      flex-wrap:wrap;\n",
              "      gap: 12px;\n",
              "    }\n",
              "\n",
              "    .colab-df-convert {\n",
              "      background-color: #E8F0FE;\n",
              "      border: none;\n",
              "      border-radius: 50%;\n",
              "      cursor: pointer;\n",
              "      display: none;\n",
              "      fill: #1967D2;\n",
              "      height: 32px;\n",
              "      padding: 0 0 0 0;\n",
              "      width: 32px;\n",
              "    }\n",
              "\n",
              "    .colab-df-convert:hover {\n",
              "      background-color: #E2EBFA;\n",
              "      box-shadow: 0px 1px 2px rgba(60, 64, 67, 0.3), 0px 1px 3px 1px rgba(60, 64, 67, 0.15);\n",
              "      fill: #174EA6;\n",
              "    }\n",
              "\n",
              "    [theme=dark] .colab-df-convert {\n",
              "      background-color: #3B4455;\n",
              "      fill: #D2E3FC;\n",
              "    }\n",
              "\n",
              "    [theme=dark] .colab-df-convert:hover {\n",
              "      background-color: #434B5C;\n",
              "      box-shadow: 0px 1px 3px 1px rgba(0, 0, 0, 0.15);\n",
              "      filter: drop-shadow(0px 1px 2px rgba(0, 0, 0, 0.3));\n",
              "      fill: #FFFFFF;\n",
              "    }\n",
              "  </style>\n",
              "\n",
              "      <script>\n",
              "        const buttonEl =\n",
              "          document.querySelector('#df-533a8e7b-827a-4c79-b4e5-7695bdb79add button.colab-df-convert');\n",
              "        buttonEl.style.display =\n",
              "          google.colab.kernel.accessAllowed ? 'block' : 'none';\n",
              "\n",
              "        async function convertToInteractive(key) {\n",
              "          const element = document.querySelector('#df-533a8e7b-827a-4c79-b4e5-7695bdb79add');\n",
              "          const dataTable =\n",
              "            await google.colab.kernel.invokeFunction('convertToInteractive',\n",
              "                                                     [key], {});\n",
              "          if (!dataTable) return;\n",
              "\n",
              "          const docLinkHtml = 'Like what you see? Visit the ' +\n",
              "            '<a target=\"_blank\" href=https://colab.research.google.com/notebooks/data_table.ipynb>data table notebook</a>'\n",
              "            + ' to learn more about interactive tables.';\n",
              "          element.innerHTML = '';\n",
              "          dataTable['output_type'] = 'display_data';\n",
              "          await google.colab.output.renderOutput(dataTable, element);\n",
              "          const docLink = document.createElement('div');\n",
              "          docLink.innerHTML = docLinkHtml;\n",
              "          element.appendChild(docLink);\n",
              "        }\n",
              "      </script>\n",
              "    </div>\n",
              "  </div>\n",
              "  "
            ]
          },
          "metadata": {},
          "execution_count": 14
        }
      ]
    },
    {
      "cell_type": "code",
      "metadata": {
        "id": "-joFK-V9hG-Y",
        "outputId": "f71d29ff-5364-4fb1-ebb4-b56e8107b90e",
        "colab": {
          "base_uri": "https://localhost:8080/",
          "height": 81
        }
      },
      "source": [
        "#here i am ploting the ratio of missing values in each feature of the test set\n",
        "test_na = (test.isnull().sum() / len(test)) * 100\n",
        "test_na = test_na.drop(test_na[test_na == 0].index).sort_values(ascending=False)[:30]\n",
        "missing_data = pd.DataFrame({'Missing Ratio' :test_na})\n",
        "missing_data.head(20)"
      ],
      "execution_count": 15,
      "outputs": [
        {
          "output_type": "execute_result",
          "data": {
            "text/plain": [
              "            Missing Ratio\n",
              "currReturn       0.403325"
            ],
            "text/html": [
              "\n",
              "  <div id=\"df-138e1a7e-6ffc-429d-8292-45aaf941c4d4\">\n",
              "    <div class=\"colab-df-container\">\n",
              "      <div>\n",
              "<style scoped>\n",
              "    .dataframe tbody tr th:only-of-type {\n",
              "        vertical-align: middle;\n",
              "    }\n",
              "\n",
              "    .dataframe tbody tr th {\n",
              "        vertical-align: top;\n",
              "    }\n",
              "\n",
              "    .dataframe thead th {\n",
              "        text-align: right;\n",
              "    }\n",
              "</style>\n",
              "<table border=\"1\" class=\"dataframe\">\n",
              "  <thead>\n",
              "    <tr style=\"text-align: right;\">\n",
              "      <th></th>\n",
              "      <th>Missing Ratio</th>\n",
              "    </tr>\n",
              "  </thead>\n",
              "  <tbody>\n",
              "    <tr>\n",
              "      <th>currReturn</th>\n",
              "      <td>0.403325</td>\n",
              "    </tr>\n",
              "  </tbody>\n",
              "</table>\n",
              "</div>\n",
              "      <button class=\"colab-df-convert\" onclick=\"convertToInteractive('df-138e1a7e-6ffc-429d-8292-45aaf941c4d4')\"\n",
              "              title=\"Convert this dataframe to an interactive table.\"\n",
              "              style=\"display:none;\">\n",
              "        \n",
              "  <svg xmlns=\"http://www.w3.org/2000/svg\" height=\"24px\"viewBox=\"0 0 24 24\"\n",
              "       width=\"24px\">\n",
              "    <path d=\"M0 0h24v24H0V0z\" fill=\"none\"/>\n",
              "    <path d=\"M18.56 5.44l.94 2.06.94-2.06 2.06-.94-2.06-.94-.94-2.06-.94 2.06-2.06.94zm-11 1L8.5 8.5l.94-2.06 2.06-.94-2.06-.94L8.5 2.5l-.94 2.06-2.06.94zm10 10l.94 2.06.94-2.06 2.06-.94-2.06-.94-.94-2.06-.94 2.06-2.06.94z\"/><path d=\"M17.41 7.96l-1.37-1.37c-.4-.4-.92-.59-1.43-.59-.52 0-1.04.2-1.43.59L10.3 9.45l-7.72 7.72c-.78.78-.78 2.05 0 2.83L4 21.41c.39.39.9.59 1.41.59.51 0 1.02-.2 1.41-.59l7.78-7.78 2.81-2.81c.8-.78.8-2.07 0-2.86zM5.41 20L4 18.59l7.72-7.72 1.47 1.35L5.41 20z\"/>\n",
              "  </svg>\n",
              "      </button>\n",
              "      \n",
              "  <style>\n",
              "    .colab-df-container {\n",
              "      display:flex;\n",
              "      flex-wrap:wrap;\n",
              "      gap: 12px;\n",
              "    }\n",
              "\n",
              "    .colab-df-convert {\n",
              "      background-color: #E8F0FE;\n",
              "      border: none;\n",
              "      border-radius: 50%;\n",
              "      cursor: pointer;\n",
              "      display: none;\n",
              "      fill: #1967D2;\n",
              "      height: 32px;\n",
              "      padding: 0 0 0 0;\n",
              "      width: 32px;\n",
              "    }\n",
              "\n",
              "    .colab-df-convert:hover {\n",
              "      background-color: #E2EBFA;\n",
              "      box-shadow: 0px 1px 2px rgba(60, 64, 67, 0.3), 0px 1px 3px 1px rgba(60, 64, 67, 0.15);\n",
              "      fill: #174EA6;\n",
              "    }\n",
              "\n",
              "    [theme=dark] .colab-df-convert {\n",
              "      background-color: #3B4455;\n",
              "      fill: #D2E3FC;\n",
              "    }\n",
              "\n",
              "    [theme=dark] .colab-df-convert:hover {\n",
              "      background-color: #434B5C;\n",
              "      box-shadow: 0px 1px 3px 1px rgba(0, 0, 0, 0.15);\n",
              "      filter: drop-shadow(0px 1px 2px rgba(0, 0, 0, 0.3));\n",
              "      fill: #FFFFFF;\n",
              "    }\n",
              "  </style>\n",
              "\n",
              "      <script>\n",
              "        const buttonEl =\n",
              "          document.querySelector('#df-138e1a7e-6ffc-429d-8292-45aaf941c4d4 button.colab-df-convert');\n",
              "        buttonEl.style.display =\n",
              "          google.colab.kernel.accessAllowed ? 'block' : 'none';\n",
              "\n",
              "        async function convertToInteractive(key) {\n",
              "          const element = document.querySelector('#df-138e1a7e-6ffc-429d-8292-45aaf941c4d4');\n",
              "          const dataTable =\n",
              "            await google.colab.kernel.invokeFunction('convertToInteractive',\n",
              "                                                     [key], {});\n",
              "          if (!dataTable) return;\n",
              "\n",
              "          const docLinkHtml = 'Like what you see? Visit the ' +\n",
              "            '<a target=\"_blank\" href=https://colab.research.google.com/notebooks/data_table.ipynb>data table notebook</a>'\n",
              "            + ' to learn more about interactive tables.';\n",
              "          element.innerHTML = '';\n",
              "          dataTable['output_type'] = 'display_data';\n",
              "          await google.colab.output.renderOutput(dataTable, element);\n",
              "          const docLink = document.createElement('div');\n",
              "          docLink.innerHTML = docLinkHtml;\n",
              "          element.appendChild(docLink);\n",
              "        }\n",
              "      </script>\n",
              "    </div>\n",
              "  </div>\n",
              "  "
            ]
          },
          "metadata": {},
          "execution_count": 15
        }
      ]
    },
    {
      "cell_type": "code",
      "metadata": {
        "id": "b-P8p5cbhNea"
      },
      "source": [
        "train[\"currReturn\"]=train[\"currReturn\"].fillna(train[\"currReturn\"].mean())\n",
        "test[\"currReturn\"]=test[\"currReturn\"].fillna(test[\"currReturn\"].mean())\n"
      ],
      "execution_count": 16,
      "outputs": []
    },
    {
      "cell_type": "code",
      "metadata": {
        "id": "OEo-pgTKhQAb",
        "outputId": "37ba0dbd-f471-4183-c170-574eaf46aee7",
        "colab": {
          "base_uri": "https://localhost:8080/",
          "height": 357
        }
      },
      "source": [
        "train.head()"
      ],
      "execution_count": 17,
      "outputs": [
        {
          "output_type": "execute_result",
          "data": {
            "text/plain": [
              "   Id        date  company_code    company  yesterday_price   open   last  \\\n",
              "0   0  2018-01-02        725001      ADWYA             5.35   5.25   5.39   \n",
              "1   1  2018-01-02        340005  AMEN BANK            24.35  24.38  24.00   \n",
              "2   2  2018-01-02        730001      ARTES             6.20   6.27   6.10   \n",
              "3   3  2018-01-02        714001      ASSAD             9.00   0.00   0.00   \n",
              "4   4  2018-01-02        360035        ATB             4.22   4.15   4.18   \n",
              "\n",
              "   close    low   high  qty_traded  num_trades          value  next_day_ret  \\\n",
              "0   5.39   5.25   5.39        2926           7   15635.500000   -161.101159   \n",
              "1  24.00  24.00  24.38        1519          12   36918.000000    -91.056323   \n",
              "2   6.10   6.09   6.27       35875          67  219020.050000    159.011983   \n",
              "3   9.00   0.00   0.00           0           0  116575.070241    -98.000768   \n",
              "4   4.18   4.15   4.18        3705           7   15465.900000   -158.659992   \n",
              "\n",
              "   currReturn  \n",
              "0    0.000177  \n",
              "1    0.000177  \n",
              "2    0.000177  \n",
              "3    0.000177  \n",
              "4    0.000177  "
            ],
            "text/html": [
              "\n",
              "  <div id=\"df-e77a9a1e-106c-47c2-a907-39bba03929e0\">\n",
              "    <div class=\"colab-df-container\">\n",
              "      <div>\n",
              "<style scoped>\n",
              "    .dataframe tbody tr th:only-of-type {\n",
              "        vertical-align: middle;\n",
              "    }\n",
              "\n",
              "    .dataframe tbody tr th {\n",
              "        vertical-align: top;\n",
              "    }\n",
              "\n",
              "    .dataframe thead th {\n",
              "        text-align: right;\n",
              "    }\n",
              "</style>\n",
              "<table border=\"1\" class=\"dataframe\">\n",
              "  <thead>\n",
              "    <tr style=\"text-align: right;\">\n",
              "      <th></th>\n",
              "      <th>Id</th>\n",
              "      <th>date</th>\n",
              "      <th>company_code</th>\n",
              "      <th>company</th>\n",
              "      <th>yesterday_price</th>\n",
              "      <th>open</th>\n",
              "      <th>last</th>\n",
              "      <th>close</th>\n",
              "      <th>low</th>\n",
              "      <th>high</th>\n",
              "      <th>qty_traded</th>\n",
              "      <th>num_trades</th>\n",
              "      <th>value</th>\n",
              "      <th>next_day_ret</th>\n",
              "      <th>currReturn</th>\n",
              "    </tr>\n",
              "  </thead>\n",
              "  <tbody>\n",
              "    <tr>\n",
              "      <th>0</th>\n",
              "      <td>0</td>\n",
              "      <td>2018-01-02</td>\n",
              "      <td>725001</td>\n",
              "      <td>ADWYA</td>\n",
              "      <td>5.35</td>\n",
              "      <td>5.25</td>\n",
              "      <td>5.39</td>\n",
              "      <td>5.39</td>\n",
              "      <td>5.25</td>\n",
              "      <td>5.39</td>\n",
              "      <td>2926</td>\n",
              "      <td>7</td>\n",
              "      <td>15635.500000</td>\n",
              "      <td>-161.101159</td>\n",
              "      <td>0.000177</td>\n",
              "    </tr>\n",
              "    <tr>\n",
              "      <th>1</th>\n",
              "      <td>1</td>\n",
              "      <td>2018-01-02</td>\n",
              "      <td>340005</td>\n",
              "      <td>AMEN BANK</td>\n",
              "      <td>24.35</td>\n",
              "      <td>24.38</td>\n",
              "      <td>24.00</td>\n",
              "      <td>24.00</td>\n",
              "      <td>24.00</td>\n",
              "      <td>24.38</td>\n",
              "      <td>1519</td>\n",
              "      <td>12</td>\n",
              "      <td>36918.000000</td>\n",
              "      <td>-91.056323</td>\n",
              "      <td>0.000177</td>\n",
              "    </tr>\n",
              "    <tr>\n",
              "      <th>2</th>\n",
              "      <td>2</td>\n",
              "      <td>2018-01-02</td>\n",
              "      <td>730001</td>\n",
              "      <td>ARTES</td>\n",
              "      <td>6.20</td>\n",
              "      <td>6.27</td>\n",
              "      <td>6.10</td>\n",
              "      <td>6.10</td>\n",
              "      <td>6.09</td>\n",
              "      <td>6.27</td>\n",
              "      <td>35875</td>\n",
              "      <td>67</td>\n",
              "      <td>219020.050000</td>\n",
              "      <td>159.011983</td>\n",
              "      <td>0.000177</td>\n",
              "    </tr>\n",
              "    <tr>\n",
              "      <th>3</th>\n",
              "      <td>3</td>\n",
              "      <td>2018-01-02</td>\n",
              "      <td>714001</td>\n",
              "      <td>ASSAD</td>\n",
              "      <td>9.00</td>\n",
              "      <td>0.00</td>\n",
              "      <td>0.00</td>\n",
              "      <td>9.00</td>\n",
              "      <td>0.00</td>\n",
              "      <td>0.00</td>\n",
              "      <td>0</td>\n",
              "      <td>0</td>\n",
              "      <td>116575.070241</td>\n",
              "      <td>-98.000768</td>\n",
              "      <td>0.000177</td>\n",
              "    </tr>\n",
              "    <tr>\n",
              "      <th>4</th>\n",
              "      <td>4</td>\n",
              "      <td>2018-01-02</td>\n",
              "      <td>360035</td>\n",
              "      <td>ATB</td>\n",
              "      <td>4.22</td>\n",
              "      <td>4.15</td>\n",
              "      <td>4.18</td>\n",
              "      <td>4.18</td>\n",
              "      <td>4.15</td>\n",
              "      <td>4.18</td>\n",
              "      <td>3705</td>\n",
              "      <td>7</td>\n",
              "      <td>15465.900000</td>\n",
              "      <td>-158.659992</td>\n",
              "      <td>0.000177</td>\n",
              "    </tr>\n",
              "  </tbody>\n",
              "</table>\n",
              "</div>\n",
              "      <button class=\"colab-df-convert\" onclick=\"convertToInteractive('df-e77a9a1e-106c-47c2-a907-39bba03929e0')\"\n",
              "              title=\"Convert this dataframe to an interactive table.\"\n",
              "              style=\"display:none;\">\n",
              "        \n",
              "  <svg xmlns=\"http://www.w3.org/2000/svg\" height=\"24px\"viewBox=\"0 0 24 24\"\n",
              "       width=\"24px\">\n",
              "    <path d=\"M0 0h24v24H0V0z\" fill=\"none\"/>\n",
              "    <path d=\"M18.56 5.44l.94 2.06.94-2.06 2.06-.94-2.06-.94-.94-2.06-.94 2.06-2.06.94zm-11 1L8.5 8.5l.94-2.06 2.06-.94-2.06-.94L8.5 2.5l-.94 2.06-2.06.94zm10 10l.94 2.06.94-2.06 2.06-.94-2.06-.94-.94-2.06-.94 2.06-2.06.94z\"/><path d=\"M17.41 7.96l-1.37-1.37c-.4-.4-.92-.59-1.43-.59-.52 0-1.04.2-1.43.59L10.3 9.45l-7.72 7.72c-.78.78-.78 2.05 0 2.83L4 21.41c.39.39.9.59 1.41.59.51 0 1.02-.2 1.41-.59l7.78-7.78 2.81-2.81c.8-.78.8-2.07 0-2.86zM5.41 20L4 18.59l7.72-7.72 1.47 1.35L5.41 20z\"/>\n",
              "  </svg>\n",
              "      </button>\n",
              "      \n",
              "  <style>\n",
              "    .colab-df-container {\n",
              "      display:flex;\n",
              "      flex-wrap:wrap;\n",
              "      gap: 12px;\n",
              "    }\n",
              "\n",
              "    .colab-df-convert {\n",
              "      background-color: #E8F0FE;\n",
              "      border: none;\n",
              "      border-radius: 50%;\n",
              "      cursor: pointer;\n",
              "      display: none;\n",
              "      fill: #1967D2;\n",
              "      height: 32px;\n",
              "      padding: 0 0 0 0;\n",
              "      width: 32px;\n",
              "    }\n",
              "\n",
              "    .colab-df-convert:hover {\n",
              "      background-color: #E2EBFA;\n",
              "      box-shadow: 0px 1px 2px rgba(60, 64, 67, 0.3), 0px 1px 3px 1px rgba(60, 64, 67, 0.15);\n",
              "      fill: #174EA6;\n",
              "    }\n",
              "\n",
              "    [theme=dark] .colab-df-convert {\n",
              "      background-color: #3B4455;\n",
              "      fill: #D2E3FC;\n",
              "    }\n",
              "\n",
              "    [theme=dark] .colab-df-convert:hover {\n",
              "      background-color: #434B5C;\n",
              "      box-shadow: 0px 1px 3px 1px rgba(0, 0, 0, 0.15);\n",
              "      filter: drop-shadow(0px 1px 2px rgba(0, 0, 0, 0.3));\n",
              "      fill: #FFFFFF;\n",
              "    }\n",
              "  </style>\n",
              "\n",
              "      <script>\n",
              "        const buttonEl =\n",
              "          document.querySelector('#df-e77a9a1e-106c-47c2-a907-39bba03929e0 button.colab-df-convert');\n",
              "        buttonEl.style.display =\n",
              "          google.colab.kernel.accessAllowed ? 'block' : 'none';\n",
              "\n",
              "        async function convertToInteractive(key) {\n",
              "          const element = document.querySelector('#df-e77a9a1e-106c-47c2-a907-39bba03929e0');\n",
              "          const dataTable =\n",
              "            await google.colab.kernel.invokeFunction('convertToInteractive',\n",
              "                                                     [key], {});\n",
              "          if (!dataTable) return;\n",
              "\n",
              "          const docLinkHtml = 'Like what you see? Visit the ' +\n",
              "            '<a target=\"_blank\" href=https://colab.research.google.com/notebooks/data_table.ipynb>data table notebook</a>'\n",
              "            + ' to learn more about interactive tables.';\n",
              "          element.innerHTML = '';\n",
              "          dataTable['output_type'] = 'display_data';\n",
              "          await google.colab.output.renderOutput(dataTable, element);\n",
              "          const docLink = document.createElement('div');\n",
              "          docLink.innerHTML = docLinkHtml;\n",
              "          element.appendChild(docLink);\n",
              "        }\n",
              "      </script>\n",
              "    </div>\n",
              "  </div>\n",
              "  "
            ]
          },
          "metadata": {},
          "execution_count": 17
        }
      ]
    },
    {
      "cell_type": "markdown",
      "metadata": {
        "id": "t7KsWUnGVdSO"
      },
      "source": [
        "**corrolation between the features and the target** "
      ]
    },
    {
      "cell_type": "code",
      "metadata": {
        "id": "OD0ApJxEhSaE",
        "outputId": "dfbf9459-37fa-432e-bb8f-0f3bdf3df609",
        "colab": {
          "base_uri": "https://localhost:8080/",
          "height": 356
        }
      },
      "source": [
        "train_corr=train.corr()\n",
        "sns.heatmap(train_corr, annot=True, fmt='0.2f')"
      ],
      "execution_count": 18,
      "outputs": [
        {
          "output_type": "execute_result",
          "data": {
            "text/plain": [
              "<matplotlib.axes._subplots.AxesSubplot at 0x7fb72abfab10>"
            ]
          },
          "metadata": {},
          "execution_count": 18
        },
        {
          "output_type": "display_data",
          "data": {
            "text/plain": [
              "<Figure size 432x288 with 2 Axes>"
            ],
            "image/png": "[encoded data removed]"
          },
          "metadata": {
            "needs_background": "light"
          }
        }
      ]
    },
    {
      "cell_type": "code",
      "metadata": {
        "id": "8BlgZKGdhVlP"
      },
      "source": [
        "train[\"medium\"]=train[\"high\"]-train[\"low\"]\n",
        "test[\"medium\"]=test[\"high\"]-test[\"low\"]\n",
        "train[\"OC\"]=train[\"close\"]-train[\"open\"]\n",
        "test[\"OC\"]=test[\"close\"]-test[\"open\"]\n"
      ],
      "execution_count": 19,
      "outputs": []
    },
    {
      "cell_type": "code",
      "metadata": {
        "id": "QQtIfqm7ha8E"
      },
      "source": [
        "L=['open','close','high','low','last']\n",
        "for e in L : \n",
        "  train.drop(e,axis=1,inplace=True)\n",
        "  test.drop(e,axis=1,inplace=True)"
      ],
      "execution_count": 20,
      "outputs": []
    },
    {
      "cell_type": "code",
      "metadata": {
        "id": "3are1pSzhc7m",
        "outputId": "fbfe40fd-3009-4076-cb47-dccdb8657501",
        "colab": {
          "base_uri": "https://localhost:8080/",
          "height": 357
        }
      },
      "source": [
        "train.head()"
      ],
      "execution_count": 21,
      "outputs": [
        {
          "output_type": "execute_result",
          "data": {
            "text/plain": [
              "   Id        date  company_code    company  yesterday_price  qty_traded  \\\n",
              "0   0  2018-01-02        725001      ADWYA             5.35        2926   \n",
              "1   1  2018-01-02        340005  AMEN BANK            24.35        1519   \n",
              "2   2  2018-01-02        730001      ARTES             6.20       35875   \n",
              "3   3  2018-01-02        714001      ASSAD             9.00           0   \n",
              "4   4  2018-01-02        360035        ATB             4.22        3705   \n",
              "\n",
              "   num_trades          value  next_day_ret  currReturn  medium    OC  \n",
              "0           7   15635.500000   -161.101159    0.000177    0.14  0.14  \n",
              "1          12   36918.000000    -91.056323    0.000177    0.38 -0.38  \n",
              "2          67  219020.050000    159.011983    0.000177    0.18 -0.17  \n",
              "3           0  116575.070241    -98.000768    0.000177    0.00  9.00  \n",
              "4           7   15465.900000   -158.659992    0.000177    0.03  0.03  "
            ],
            "text/html": [
              "\n",
              "  <div id=\"df-ba5a7ed6-e163-466c-84bd-f6bef69d4e99\">\n",
              "    <div class=\"colab-df-container\">\n",
              "      <div>\n",
              "<style scoped>\n",
              "    .dataframe tbody tr th:only-of-type {\n",
              "        vertical-align: middle;\n",
              "    }\n",
              "\n",
              "    .dataframe tbody tr th {\n",
              "        vertical-align: top;\n",
              "    }\n",
              "\n",
              "    .dataframe thead th {\n",
              "        text-align: right;\n",
              "    }\n",
              "</style>\n",
              "<table border=\"1\" class=\"dataframe\">\n",
              "  <thead>\n",
              "    <tr style=\"text-align: right;\">\n",
              "      <th></th>\n",
              "      <th>Id</th>\n",
              "      <th>date</th>\n",
              "      <th>company_code</th>\n",
              "      <th>company</th>\n",
              "      <th>yesterday_price</th>\n",
              "      <th>qty_traded</th>\n",
              "      <th>num_trades</th>\n",
              "      <th>value</th>\n",
              "      <th>next_day_ret</th>\n",
              "      <th>currReturn</th>\n",
              "      <th>medium</th>\n",
              "      <th>OC</th>\n",
              "    </tr>\n",
              "  </thead>\n",
              "  <tbody>\n",
              "    <tr>\n",
              "      <th>0</th>\n",
              "      <td>0</td>\n",
              "      <td>2018-01-02</td>\n",
              "      <td>725001</td>\n",
              "      <td>ADWYA</td>\n",
              "      <td>5.35</td>\n",
              "      <td>2926</td>\n",
              "      <td>7</td>\n",
              "      <td>15635.500000</td>\n",
              "      <td>-161.101159</td>\n",
              "      <td>0.000177</td>\n",
              "      <td>0.14</td>\n",
              "      <td>0.14</td>\n",
              "    </tr>\n",
              "    <tr>\n",
              "      <th>1</th>\n",
              "      <td>1</td>\n",
              "      <td>2018-01-02</td>\n",
              "      <td>340005</td>\n",
              "      <td>AMEN BANK</td>\n",
              "      <td>24.35</td>\n",
              "      <td>1519</td>\n",
              "      <td>12</td>\n",
              "      <td>36918.000000</td>\n",
              "      <td>-91.056323</td>\n",
              "      <td>0.000177</td>\n",
              "      <td>0.38</td>\n",
              "      <td>-0.38</td>\n",
              "    </tr>\n",
              "    <tr>\n",
              "      <th>2</th>\n",
              "      <td>2</td>\n",
              "      <td>2018-01-02</td>\n",
              "      <td>730001</td>\n",
              "      <td>ARTES</td>\n",
              "      <td>6.20</td>\n",
              "      <td>35875</td>\n",
              "      <td>67</td>\n",
              "      <td>219020.050000</td>\n",
              "      <td>159.011983</td>\n",
              "      <td>0.000177</td>\n",
              "      <td>0.18</td>\n",
              "      <td>-0.17</td>\n",
              "    </tr>\n",
              "    <tr>\n",
              "      <th>3</th>\n",
              "      <td>3</td>\n",
              "      <td>2018-01-02</td>\n",
              "      <td>714001</td>\n",
              "      <td>ASSAD</td>\n",
              "      <td>9.00</td>\n",
              "      <td>0</td>\n",
              "      <td>0</td>\n",
              "      <td>116575.070241</td>\n",
              "      <td>-98.000768</td>\n",
              "      <td>0.000177</td>\n",
              "      <td>0.00</td>\n",
              "      <td>9.00</td>\n",
              "    </tr>\n",
              "    <tr>\n",
              "      <th>4</th>\n",
              "      <td>4</td>\n",
              "      <td>2018-01-02</td>\n",
              "      <td>360035</td>\n",
              "      <td>ATB</td>\n",
              "      <td>4.22</td>\n",
              "      <td>3705</td>\n",
              "      <td>7</td>\n",
              "      <td>15465.900000</td>\n",
              "      <td>-158.659992</td>\n",
              "      <td>0.000177</td>\n",
              "      <td>0.03</td>\n",
              "      <td>0.03</td>\n",
              "    </tr>\n",
              "  </tbody>\n",
              "</table>\n",
              "</div>\n",
              "      <button class=\"colab-df-convert\" onclick=\"convertToInteractive('df-ba5a7ed6-e163-466c-84bd-f6bef69d4e99')\"\n",
              "              title=\"Convert this dataframe to an interactive table.\"\n",
              "              style=\"display:none;\">\n",
              "        \n",
              "  <svg xmlns=\"http://www.w3.org/2000/svg\" height=\"24px\"viewBox=\"0 0 24 24\"\n",
              "       width=\"24px\">\n",
              "    <path d=\"M0 0h24v24H0V0z\" fill=\"none\"/>\n",
              "    <path d=\"M18.56 5.44l.94 2.06.94-2.06 2.06-.94-2.06-.94-.94-2.06-.94 2.06-2.06.94zm-11 1L8.5 8.5l.94-2.06 2.06-.94-2.06-.94L8.5 2.5l-.94 2.06-2.06.94zm10 10l.94 2.06.94-2.06 2.06-.94-2.06-.94-.94-2.06-.94 2.06-2.06.94z\"/><path d=\"M17.41 7.96l-1.37-1.37c-.4-.4-.92-.59-1.43-.59-.52 0-1.04.2-1.43.59L10.3 9.45l-7.72 7.72c-.78.78-.78 2.05 0 2.83L4 21.41c.39.39.9.59 1.41.59.51 0 1.02-.2 1.41-.59l7.78-7.78 2.81-2.81c.8-.78.8-2.07 0-2.86zM5.41 20L4 18.59l7.72-7.72 1.47 1.35L5.41 20z\"/>\n",
              "  </svg>\n",
              "      </button>\n",
              "      \n",
              "  <style>\n",
              "    .colab-df-container {\n",
              "      display:flex;\n",
              "      flex-wrap:wrap;\n",
              "      gap: 12px;\n",
              "    }\n",
              "\n",
              "    .colab-df-convert {\n",
              "      background-color: #E8F0FE;\n",
              "      border: none;\n",
              "      border-radius: 50%;\n",
              "      cursor: pointer;\n",
              "      display: none;\n",
              "      fill: #1967D2;\n",
              "      height: 32px;\n",
              "      padding: 0 0 0 0;\n",
              "      width: 32px;\n",
              "    }\n",
              "\n",
              "    .colab-df-convert:hover {\n",
              "      background-color: #E2EBFA;\n",
              "      box-shadow: 0px 1px 2px rgba(60, 64, 67, 0.3), 0px 1px 3px 1px rgba(60, 64, 67, 0.15);\n",
              "      fill: #174EA6;\n",
              "    }\n",
              "\n",
              "    [theme=dark] .colab-df-convert {\n",
              "      background-color: #3B4455;\n",
              "      fill: #D2E3FC;\n",
              "    }\n",
              "\n",
              "    [theme=dark] .colab-df-convert:hover {\n",
              "      background-color: #434B5C;\n",
              "      box-shadow: 0px 1px 3px 1px rgba(0, 0, 0, 0.15);\n",
              "      filter: drop-shadow(0px 1px 2px rgba(0, 0, 0, 0.3));\n",
              "      fill: #FFFFFF;\n",
              "    }\n",
              "  </style>\n",
              "\n",
              "      <script>\n",
              "        const buttonEl =\n",
              "          document.querySelector('#df-ba5a7ed6-e163-466c-84bd-f6bef69d4e99 button.colab-df-convert');\n",
              "        buttonEl.style.display =\n",
              "          google.colab.kernel.accessAllowed ? 'block' : 'none';\n",
              "\n",
              "        async function convertToInteractive(key) {\n",
              "          const element = document.querySelector('#df-ba5a7ed6-e163-466c-84bd-f6bef69d4e99');\n",
              "          const dataTable =\n",
              "            await google.colab.kernel.invokeFunction('convertToInteractive',\n",
              "                                                     [key], {});\n",
              "          if (!dataTable) return;\n",
              "\n",
              "          const docLinkHtml = 'Like what you see? Visit the ' +\n",
              "            '<a target=\"_blank\" href=https://colab.research.google.com/notebooks/data_table.ipynb>data table notebook</a>'\n",
              "            + ' to learn more about interactive tables.';\n",
              "          element.innerHTML = '';\n",
              "          dataTable['output_type'] = 'display_data';\n",
              "          await google.colab.output.renderOutput(dataTable, element);\n",
              "          const docLink = document.createElement('div');\n",
              "          docLink.innerHTML = docLinkHtml;\n",
              "          element.appendChild(docLink);\n",
              "        }\n",
              "      </script>\n",
              "    </div>\n",
              "  </div>\n",
              "  "
            ]
          },
          "metadata": {},
          "execution_count": 21
        }
      ]
    },
    {
      "cell_type": "code",
      "metadata": {
        "id": "F5H3gSMawoz1",
        "outputId": "00371bc6-e2b3-4220-ce14-0a7f406290e8",
        "colab": {
          "base_uri": "https://localhost:8080/"
        }
      },
      "source": [
        "train.shape , test.shape "
      ],
      "execution_count": 22,
      "outputs": [
        {
          "output_type": "execute_result",
          "data": {
            "text/plain": [
              "((20417, 12), (20331, 11))"
            ]
          },
          "metadata": {},
          "execution_count": 22
        }
      ]
    },
    {
      "cell_type": "markdown",
      "metadata": {
        "id": "tX2q-b0TVmAu"
      },
      "source": [
        "**we will check if there is a normality in one of the features or the target** "
      ]
    },
    {
      "cell_type": "code",
      "metadata": {
        "id": "PfEBCILpittr",
        "outputId": "60afdce7-c264-43c4-f6e9-a813ab6bd4a5",
        "colab": {
          "base_uri": "https://localhost:8080/"
        }
      },
      "source": [
        "print(\"skewness: %f\" % train['next_day_ret'].skew())\n",
        "print(\"kurtosis: %f\" % train['next_day_ret'].kurt())"
      ],
      "execution_count": 23,
      "outputs": [
        {
          "output_type": "stream",
          "name": "stdout",
          "text": [
            "skewness: -6.750935\n",
            "kurtosis: 358.786178\n"
          ]
        }
      ]
    },
    {
      "cell_type": "code",
      "metadata": {
        "id": "sCpLlhD4inIy",
        "outputId": "26aaa1ae-4ad0-4f25-edc7-0369cb08af4c",
        "colab": {
          "base_uri": "https://localhost:8080/"
        }
      },
      "source": [
        "print(\"skewness: %f\" % train['value'].skew())\n",
        "print(\"kurtosis: %f\" % train['value'].kurt())"
      ],
      "execution_count": 24,
      "outputs": [
        {
          "output_type": "stream",
          "name": "stdout",
          "text": [
            "skewness: 79.055884\n",
            "kurtosis: 8134.971006\n"
          ]
        }
      ]
    },
    {
      "cell_type": "markdown",
      "metadata": {
        "id": "MSO8infzjT_I"
      },
      "source": [
        "no need to fit the distribution to a normal one "
      ]
    },
    {
      "cell_type": "markdown",
      "metadata": {
        "id": "JvwRTqRMV2_u"
      },
      "source": [
        "**outlayers** "
      ]
    },
    {
      "cell_type": "code",
      "metadata": {
        "id": "S0atPA336veI",
        "outputId": "1ae6316d-8db9-4364-e841-67298cce2e24",
        "colab": {
          "base_uri": "https://localhost:8080/",
          "height": 282
        }
      },
      "source": [
        "fig, ax = plt.subplots()\n",
        "ax.scatter(train['value'], train['next_day_ret'])\n",
        "plt.ylabel('next_day_ret', fontsize=13)\n",
        "plt.xlabel('value', fontsize=13)\n",
        "plt.show()"
      ],
      "execution_count": 25,
      "outputs": [
        {
          "output_type": "display_data",
          "data": {
            "text/plain": [
              "<Figure size 432x288 with 1 Axes>"
            ],
            "image/png": "[encoded data removed]"
          },
          "metadata": {
            "needs_background": "light"
          }
        }
      ]
    },
    {
      "cell_type": "markdown",
      "metadata": {
        "id": "UmPFWoN6V9VB"
      },
      "source": [
        "i tested all the features : no outlayers in all of them "
      ]
    },
    {
      "cell_type": "code",
      "metadata": {
        "id": "mvkQkF8vjMUw"
      },
      "source": [
        "train.drop(\"company\",axis=1,inplace=True)\n",
        "test.drop(\"company\",axis=1,inplace=True)"
      ],
      "execution_count": 26,
      "outputs": []
    },
    {
      "cell_type": "code",
      "metadata": {
        "id": "XEw5NA-Qjjys"
      },
      "source": [
        "train.set_index(\"date\",inplace=True)\n",
        "test.set_index(\"date\",inplace=True)"
      ],
      "execution_count": 27,
      "outputs": []
    },
    {
      "cell_type": "code",
      "metadata": {
        "id": "EW2sPSgHjl_r",
        "outputId": "7fb92caf-fe27-4f94-c280-b5649d540eaa",
        "colab": {
          "base_uri": "https://localhost:8080/"
        }
      },
      "source": [
        "target=train[\"next_day_ret\"]\n",
        "target.shape"
      ],
      "execution_count": 28,
      "outputs": [
        {
          "output_type": "execute_result",
          "data": {
            "text/plain": [
              "(20417,)"
            ]
          },
          "metadata": {},
          "execution_count": 28
        }
      ]
    },
    {
      "cell_type": "code",
      "metadata": {
        "id": "mhLUGzzWj3tU"
      },
      "source": [
        "train.drop(\"next_day_ret\",axis=1,inplace=True)\n",
        "train_id=train[\"Id\"]\n",
        "test_id=test[\"Id\"]\n",
        "train.drop(\"Id\",axis=1,inplace=True)\n",
        "test.drop(\"Id\",axis=1,inplace=True)"
      ],
      "execution_count": 29,
      "outputs": []
    },
    {
      "cell_type": "code",
      "metadata": {
        "id": "EtsaW8u2lMU-"
      },
      "source": [
        "all_data=pd.concat([train,test])"
      ],
      "execution_count": 30,
      "outputs": []
    },
    {
      "cell_type": "code",
      "metadata": {
        "id": "7Z1MJENglRez",
        "outputId": "4ccf731c-5993-4b31-e6aa-436d9ab43abc",
        "colab": {
          "base_uri": "https://localhost:8080/"
        }
      },
      "source": [
        "all_data.shape"
      ],
      "execution_count": 31,
      "outputs": [
        {
          "output_type": "execute_result",
          "data": {
            "text/plain": [
              "(40748, 8)"
            ]
          },
          "metadata": {},
          "execution_count": 31
        }
      ]
    },
    {
      "cell_type": "markdown",
      "metadata": {
        "id": "ft4tDZS9WNOC"
      },
      "source": [
        "# data scaling "
      ]
    },
    {
      "cell_type": "code",
      "metadata": {
        "id": "29FwO3ZllU9u"
      },
      "source": [
        "from sklearn.preprocessing import StandardScaler\n",
        "scaler = StandardScaler()\n",
        "scaled_all_data = scaler.fit_transform(all_data)\n",
        "\n"
      ],
      "execution_count": 32,
      "outputs": []
    },
    {
      "cell_type": "markdown",
      "metadata": {
        "id": "FbmorydHWRy_"
      },
      "source": [
        "# PCA "
      ]
    },
    {
      "cell_type": "code",
      "metadata": {
        "id": "asTJm5tM1l1g",
        "outputId": "e77a51e7-62fb-4ad5-af2c-ef39bac008e0",
        "colab": {
          "base_uri": "https://localhost:8080/"
        }
      },
      "source": [
        "from sklearn.decomposition import PCA\n",
        "num_pc = 4\n",
        "\n",
        "X = np.asarray(scaled_all_data)\n",
        "[n,m] = X.shape\n",
        "print ('The number of timestamps is {}.'.format(n))\n",
        "\n",
        "\n",
        "pca = PCA(n_components=num_pc) # number of principal components\n",
        "pca.fit(X)\n",
        "\n",
        "percentage =  pca.explained_variance_ratio_\n",
        "percentage_cum = np.cumsum(percentage)\n",
        "print ('{0:.2f}% of the variance is explained by the first 4 PCs'.format(percentage_cum[-1]*100))\n",
        "\n",
        "pca_components = pca.components_"
      ],
      "execution_count": 33,
      "outputs": [
        {
          "output_type": "stream",
          "name": "stdout",
          "text": [
            "The number of timestamps is 40748.\n",
            "76.11% of the variance is explained by the first 4 PCs\n"
          ]
        }
      ]
    },
    {
      "cell_type": "code",
      "metadata": {
        "id": "K8A8BtwpDvn1"
      },
      "source": [
        "from sklearn.decomposition import PCA\n",
        "pca = PCA(n_components=4)\n",
        "principalComponents = pca.fit_transform(scaled_all_data)\n",
        "PCA_data = pd.DataFrame(data = principalComponents, columns = ['principal component 1', 'principal component 2','principal component 3','principal component 4'],index=all_data.index)\n",
        "\n"
      ],
      "execution_count": 34,
      "outputs": []
    },
    {
      "cell_type": "code",
      "metadata": {
        "id": "RZ9YHxp8K-T8",
        "outputId": "c1d9808c-3035-403a-a1a9-31c67f5bf4e6",
        "colab": {
          "base_uri": "https://localhost:8080/",
          "height": 238
        }
      },
      "source": [
        "PCA_data.head()"
      ],
      "execution_count": 35,
      "outputs": [
        {
          "output_type": "execute_result",
          "data": {
            "text/plain": [
              "            principal component 1  principal component 2  \\\n",
              "date                                                       \n",
              "2018-01-02              -0.462399               0.495299   \n",
              "2018-01-02               0.222562              -0.726054   \n",
              "2018-01-02               0.393474               0.797934   \n",
              "2018-01-02              -0.477389               0.274691   \n",
              "2018-01-02              -0.226342              -0.011408   \n",
              "\n",
              "            principal component 3  principal component 4  \n",
              "date                                                      \n",
              "2018-01-02              -0.188804               0.090863  \n",
              "2018-01-02              -0.035705               0.081523  \n",
              "2018-01-02              -0.862968               0.003482  \n",
              "2018-01-02               0.469545              -0.086906  \n",
              "2018-01-02               0.288806              -0.050941  "
            ],
            "text/html": [
              "\n",
              "  <div id=\"df-10853580-839f-4673-b0e2-6a7909be2066\">\n",
              "    <div class=\"colab-df-container\">\n",
              "      <div>\n",
              "<style scoped>\n",
              "    .dataframe tbody tr th:only-of-type {\n",
              "        vertical-align: middle;\n",
              "    }\n",
              "\n",
              "    .dataframe tbody tr th {\n",
              "        vertical-align: top;\n",
              "    }\n",
              "\n",
              "    .dataframe thead th {\n",
              "        text-align: right;\n",
              "    }\n",
              "</style>\n",
              "<table border=\"1\" class=\"dataframe\">\n",
              "  <thead>\n",
              "    <tr style=\"text-align: right;\">\n",
              "      <th></th>\n",
              "      <th>principal component 1</th>\n",
              "      <th>principal component 2</th>\n",
              "      <th>principal component 3</th>\n",
              "      <th>principal component 4</th>\n",
              "    </tr>\n",
              "    <tr>\n",
              "      <th>date</th>\n",
              "      <th></th>\n",
              "      <th></th>\n",
              "      <th></th>\n",
              "      <th></th>\n",
              "    </tr>\n",
              "  </thead>\n",
              "  <tbody>\n",
              "    <tr>\n",
              "      <th>2018-01-02</th>\n",
              "      <td>-0.462399</td>\n",
              "      <td>0.495299</td>\n",
              "      <td>-0.188804</td>\n",
              "      <td>0.090863</td>\n",
              "    </tr>\n",
              "    <tr>\n",
              "      <th>2018-01-02</th>\n",
              "      <td>0.222562</td>\n",
              "      <td>-0.726054</td>\n",
              "      <td>-0.035705</td>\n",
              "      <td>0.081523</td>\n",
              "    </tr>\n",
              "    <tr>\n",
              "      <th>2018-01-02</th>\n",
              "      <td>0.393474</td>\n",
              "      <td>0.797934</td>\n",
              "      <td>-0.862968</td>\n",
              "      <td>0.003482</td>\n",
              "    </tr>\n",
              "    <tr>\n",
              "      <th>2018-01-02</th>\n",
              "      <td>-0.477389</td>\n",
              "      <td>0.274691</td>\n",
              "      <td>0.469545</td>\n",
              "      <td>-0.086906</td>\n",
              "    </tr>\n",
              "    <tr>\n",
              "      <th>2018-01-02</th>\n",
              "      <td>-0.226342</td>\n",
              "      <td>-0.011408</td>\n",
              "      <td>0.288806</td>\n",
              "      <td>-0.050941</td>\n",
              "    </tr>\n",
              "  </tbody>\n",
              "</table>\n",
              "</div>\n",
              "      <button class=\"colab-df-convert\" onclick=\"convertToInteractive('df-10853580-839f-4673-b0e2-6a7909be2066')\"\n",
              "              title=\"Convert this dataframe to an interactive table.\"\n",
              "              style=\"display:none;\">\n",
              "        \n",
              "  <svg xmlns=\"http://www.w3.org/2000/svg\" height=\"24px\"viewBox=\"0 0 24 24\"\n",
              "       width=\"24px\">\n",
              "    <path d=\"M0 0h24v24H0V0z\" fill=\"none\"/>\n",
              "    <path d=\"M18.56 5.44l.94 2.06.94-2.06 2.06-.94-2.06-.94-.94-2.06-.94 2.06-2.06.94zm-11 1L8.5 8.5l.94-2.06 2.06-.94-2.06-.94L8.5 2.5l-.94 2.06-2.06.94zm10 10l.94 2.06.94-2.06 2.06-.94-2.06-.94-.94-2.06-.94 2.06-2.06.94z\"/><path d=\"M17.41 7.96l-1.37-1.37c-.4-.4-.92-.59-1.43-.59-.52 0-1.04.2-1.43.59L10.3 9.45l-7.72 7.72c-.78.78-.78 2.05 0 2.83L4 21.41c.39.39.9.59 1.41.59.51 0 1.02-.2 1.41-.59l7.78-7.78 2.81-2.81c.8-.78.8-2.07 0-2.86zM5.41 20L4 18.59l7.72-7.72 1.47 1.35L5.41 20z\"/>\n",
              "  </svg>\n",
              "      </button>\n",
              "      \n",
              "  <style>\n",
              "    .colab-df-container {\n",
              "      display:flex;\n",
              "      flex-wrap:wrap;\n",
              "      gap: 12px;\n",
              "    }\n",
              "\n",
              "    .colab-df-convert {\n",
              "      background-color: #E8F0FE;\n",
              "      border: none;\n",
              "      border-radius: 50%;\n",
              "      cursor: pointer;\n",
              "      display: none;\n",
              "      fill: #1967D2;\n",
              "      height: 32px;\n",
              "      padding: 0 0 0 0;\n",
              "      width: 32px;\n",
              "    }\n",
              "\n",
              "    .colab-df-convert:hover {\n",
              "      background-color: #E2EBFA;\n",
              "      box-shadow: 0px 1px 2px rgba(60, 64, 67, 0.3), 0px 1px 3px 1px rgba(60, 64, 67, 0.15);\n",
              "      fill: #174EA6;\n",
              "    }\n",
              "\n",
              "    [theme=dark] .colab-df-convert {\n",
              "      background-color: #3B4455;\n",
              "      fill: #D2E3FC;\n",
              "    }\n",
              "\n",
              "    [theme=dark] .colab-df-convert:hover {\n",
              "      background-color: #434B5C;\n",
              "      box-shadow: 0px 1px 3px 1px rgba(0, 0, 0, 0.15);\n",
              "      filter: drop-shadow(0px 1px 2px rgba(0, 0, 0, 0.3));\n",
              "      fill: #FFFFFF;\n",
              "    }\n",
              "  </style>\n",
              "\n",
              "      <script>\n",
              "        const buttonEl =\n",
              "          document.querySelector('#df-10853580-839f-4673-b0e2-6a7909be2066 button.colab-df-convert');\n",
              "        buttonEl.style.display =\n",
              "          google.colab.kernel.accessAllowed ? 'block' : 'none';\n",
              "\n",
              "        async function convertToInteractive(key) {\n",
              "          const element = document.querySelector('#df-10853580-839f-4673-b0e2-6a7909be2066');\n",
              "          const dataTable =\n",
              "            await google.colab.kernel.invokeFunction('convertToInteractive',\n",
              "                                                     [key], {});\n",
              "          if (!dataTable) return;\n",
              "\n",
              "          const docLinkHtml = 'Like what you see? Visit the ' +\n",
              "            '<a target=\"_blank\" href=https://colab.research.google.com/notebooks/data_table.ipynb>data table notebook</a>'\n",
              "            + ' to learn more about interactive tables.';\n",
              "          element.innerHTML = '';\n",
              "          dataTable['output_type'] = 'display_data';\n",
              "          await google.colab.output.renderOutput(dataTable, element);\n",
              "          const docLink = document.createElement('div');\n",
              "          docLink.innerHTML = docLinkHtml;\n",
              "          element.appendChild(docLink);\n",
              "        }\n",
              "      </script>\n",
              "    </div>\n",
              "  </div>\n",
              "  "
            ]
          },
          "metadata": {},
          "execution_count": 35
        }
      ]
    },
    {
      "cell_type": "code",
      "metadata": {
        "id": "nZrp3OT14qwm"
      },
      "source": [
        "all_data[\"principal component 1\"]=PCA_data[\"principal component 1\"]\n",
        "all_data[\"principal component 2\"]=PCA_data[\"principal component 2\"]\n",
        "all_data[\"principal component 3\"]=PCA_data[\"principal component 3\"]\n",
        "all_data[\"principal component 4\"]=PCA_data[\"principal component 4\"]"
      ],
      "execution_count": 36,
      "outputs": []
    },
    {
      "cell_type": "code",
      "metadata": {
        "id": "7vfl-1KqKp8J",
        "colab": {
          "base_uri": "https://localhost:8080/",
          "height": 423
        },
        "outputId": "848d2651-229d-4791-ea4f-623192453f09"
      },
      "source": [
        "all_data.head()"
      ],
      "execution_count": 37,
      "outputs": [
        {
          "output_type": "execute_result",
          "data": {
            "text/plain": [
              "            company_code  yesterday_price  qty_traded  num_trades  \\\n",
              "date                                                                \n",
              "2018-01-02        725001             5.35        2926           7   \n",
              "2018-01-02        340005            24.35        1519          12   \n",
              "2018-01-02        730001             6.20       35875          67   \n",
              "2018-01-02        714001             9.00           0           0   \n",
              "2018-01-02        360035             4.22        3705           7   \n",
              "\n",
              "                    value  currReturn  medium    OC  principal component 1  \\\n",
              "date                                                                         \n",
              "2018-01-02   15635.500000    0.000177    0.14  0.14              -0.462399   \n",
              "2018-01-02   36918.000000    0.000177    0.38 -0.38               0.222562   \n",
              "2018-01-02  219020.050000    0.000177    0.18 -0.17               0.393474   \n",
              "2018-01-02  116575.070241    0.000177    0.00  9.00              -0.477389   \n",
              "2018-01-02   15465.900000    0.000177    0.03  0.03              -0.226342   \n",
              "\n",
              "            principal component 2  principal component 3  \\\n",
              "date                                                       \n",
              "2018-01-02               0.495299              -0.188804   \n",
              "2018-01-02              -0.726054              -0.035705   \n",
              "2018-01-02               0.797934              -0.862968   \n",
              "2018-01-02               0.274691               0.469545   \n",
              "2018-01-02              -0.011408               0.288806   \n",
              "\n",
              "            principal component 4  \n",
              "date                               \n",
              "2018-01-02               0.090863  \n",
              "2018-01-02               0.081523  \n",
              "2018-01-02               0.003482  \n",
              "2018-01-02              -0.086906  \n",
              "2018-01-02              -0.050941  "
            ],
            "text/html": [
              "\n",
              "  <div id=\"df-7d1731b0-526e-4e55-a1af-d014d2e4d5d4\">\n",
              "    <div class=\"colab-df-container\">\n",
              "      <div>\n",
              "<style scoped>\n",
              "    .dataframe tbody tr th:only-of-type {\n",
              "        vertical-align: middle;\n",
              "    }\n",
              "\n",
              "    .dataframe tbody tr th {\n",
              "        vertical-align: top;\n",
              "    }\n",
              "\n",
              "    .dataframe thead th {\n",
              "        text-align: right;\n",
              "    }\n",
              "</style>\n",
              "<table border=\"1\" class=\"dataframe\">\n",
              "  <thead>\n",
              "    <tr style=\"text-align: right;\">\n",
              "      <th></th>\n",
              "      <th>company_code</th>\n",
              "      <th>yesterday_price</th>\n",
              "      <th>qty_traded</th>\n",
              "      <th>num_trades</th>\n",
              "      <th>value</th>\n",
              "      <th>currReturn</th>\n",
              "      <th>medium</th>\n",
              "      <th>OC</th>\n",
              "      <th>principal component 1</th>\n",
              "      <th>principal component 2</th>\n",
              "      <th>principal component 3</th>\n",
              "      <th>principal component 4</th>\n",
              "    </tr>\n",
              "    <tr>\n",
              "      <th>date</th>\n",
              "      <th></th>\n",
              "      <th></th>\n",
              "      <th></th>\n",
              "      <th></th>\n",
              "      <th></th>\n",
              "      <th></th>\n",
              "      <th></th>\n",
              "      <th></th>\n",
              "      <th></th>\n",
              "      <th></th>\n",
              "      <th></th>\n",
              "      <th></th>\n",
              "    </tr>\n",
              "  </thead>\n",
              "  <tbody>\n",
              "    <tr>\n",
              "      <th>2018-01-02</th>\n",
              "      <td>725001</td>\n",
              "      <td>5.35</td>\n",
              "      <td>2926</td>\n",
              "      <td>7</td>\n",
              "      <td>15635.500000</td>\n",
              "      <td>0.000177</td>\n",
              "      <td>0.14</td>\n",
              "      <td>0.14</td>\n",
              "      <td>-0.462399</td>\n",
              "      <td>0.495299</td>\n",
              "      <td>-0.188804</td>\n",
              "      <td>0.090863</td>\n",
              "    </tr>\n",
              "    <tr>\n",
              "      <th>2018-01-02</th>\n",
              "      <td>340005</td>\n",
              "      <td>24.35</td>\n",
              "      <td>1519</td>\n",
              "      <td>12</td>\n",
              "      <td>36918.000000</td>\n",
              "      <td>0.000177</td>\n",
              "      <td>0.38</td>\n",
              "      <td>-0.38</td>\n",
              "      <td>0.222562</td>\n",
              "      <td>-0.726054</td>\n",
              "      <td>-0.035705</td>\n",
              "      <td>0.081523</td>\n",
              "    </tr>\n",
              "    <tr>\n",
              "      <th>2018-01-02</th>\n",
              "      <td>730001</td>\n",
              "      <td>6.20</td>\n",
              "      <td>35875</td>\n",
              "      <td>67</td>\n",
              "      <td>219020.050000</td>\n",
              "      <td>0.000177</td>\n",
              "      <td>0.18</td>\n",
              "      <td>-0.17</td>\n",
              "      <td>0.393474</td>\n",
              "      <td>0.797934</td>\n",
              "      <td>-0.862968</td>\n",
              "      <td>0.003482</td>\n",
              "    </tr>\n",
              "    <tr>\n",
              "      <th>2018-01-02</th>\n",
              "      <td>714001</td>\n",
              "      <td>9.00</td>\n",
              "      <td>0</td>\n",
              "      <td>0</td>\n",
              "      <td>116575.070241</td>\n",
              "      <td>0.000177</td>\n",
              "      <td>0.00</td>\n",
              "      <td>9.00</td>\n",
              "      <td>-0.477389</td>\n",
              "      <td>0.274691</td>\n",
              "      <td>0.469545</td>\n",
              "      <td>-0.086906</td>\n",
              "    </tr>\n",
              "    <tr>\n",
              "      <th>2018-01-02</th>\n",
              "      <td>360035</td>\n",
              "      <td>4.22</td>\n",
              "      <td>3705</td>\n",
              "      <td>7</td>\n",
              "      <td>15465.900000</td>\n",
              "      <td>0.000177</td>\n",
              "      <td>0.03</td>\n",
              "      <td>0.03</td>\n",
              "      <td>-0.226342</td>\n",
              "      <td>-0.011408</td>\n",
              "      <td>0.288806</td>\n",
              "      <td>-0.050941</td>\n",
              "    </tr>\n",
              "  </tbody>\n",
              "</table>\n",
              "</div>\n",
              "      <button class=\"colab-df-convert\" onclick=\"convertToInteractive('df-7d1731b0-526e-4e55-a1af-d014d2e4d5d4')\"\n",
              "              title=\"Convert this dataframe to an interactive table.\"\n",
              "              style=\"display:none;\">\n",
              "        \n",
              "  <svg xmlns=\"http://www.w3.org/2000/svg\" height=\"24px\"viewBox=\"0 0 24 24\"\n",
              "       width=\"24px\">\n",
              "    <path d=\"M0 0h24v24H0V0z\" fill=\"none\"/>\n",
              "    <path d=\"M18.56 5.44l.94 2.06.94-2.06 2.06-.94-2.06-.94-.94-2.06-.94 2.06-2.06.94zm-11 1L8.5 8.5l.94-2.06 2.06-.94-2.06-.94L8.5 2.5l-.94 2.06-2.06.94zm10 10l.94 2.06.94-2.06 2.06-.94-2.06-.94-.94-2.06-.94 2.06-2.06.94z\"/><path d=\"M17.41 7.96l-1.37-1.37c-.4-.4-.92-.59-1.43-.59-.52 0-1.04.2-1.43.59L10.3 9.45l-7.72 7.72c-.78.78-.78 2.05 0 2.83L4 21.41c.39.39.9.59 1.41.59.51 0 1.02-.2 1.41-.59l7.78-7.78 2.81-2.81c.8-.78.8-2.07 0-2.86zM5.41 20L4 18.59l7.72-7.72 1.47 1.35L5.41 20z\"/>\n",
              "  </svg>\n",
              "      </button>\n",
              "      \n",
              "  <style>\n",
              "    .colab-df-container {\n",
              "      display:flex;\n",
              "      flex-wrap:wrap;\n",
              "      gap: 12px;\n",
              "    }\n",
              "\n",
              "    .colab-df-convert {\n",
              "      background-color: #E8F0FE;\n",
              "      border: none;\n",
              "      border-radius: 50%;\n",
              "      cursor: pointer;\n",
              "      display: none;\n",
              "      fill: #1967D2;\n",
              "      height: 32px;\n",
              "      padding: 0 0 0 0;\n",
              "      width: 32px;\n",
              "    }\n",
              "\n",
              "    .colab-df-convert:hover {\n",
              "      background-color: #E2EBFA;\n",
              "      box-shadow: 0px 1px 2px rgba(60, 64, 67, 0.3), 0px 1px 3px 1px rgba(60, 64, 67, 0.15);\n",
              "      fill: #174EA6;\n",
              "    }\n",
              "\n",
              "    [theme=dark] .colab-df-convert {\n",
              "      background-color: #3B4455;\n",
              "      fill: #D2E3FC;\n",
              "    }\n",
              "\n",
              "    [theme=dark] .colab-df-convert:hover {\n",
              "      background-color: #434B5C;\n",
              "      box-shadow: 0px 1px 3px 1px rgba(0, 0, 0, 0.15);\n",
              "      filter: drop-shadow(0px 1px 2px rgba(0, 0, 0, 0.3));\n",
              "      fill: #FFFFFF;\n",
              "    }\n",
              "  </style>\n",
              "\n",
              "      <script>\n",
              "        const buttonEl =\n",
              "          document.querySelector('#df-7d1731b0-526e-4e55-a1af-d014d2e4d5d4 button.colab-df-convert');\n",
              "        buttonEl.style.display =\n",
              "          google.colab.kernel.accessAllowed ? 'block' : 'none';\n",
              "\n",
              "        async function convertToInteractive(key) {\n",
              "          const element = document.querySelector('#df-7d1731b0-526e-4e55-a1af-d014d2e4d5d4');\n",
              "          const dataTable =\n",
              "            await google.colab.kernel.invokeFunction('convertToInteractive',\n",
              "                                                     [key], {});\n",
              "          if (!dataTable) return;\n",
              "\n",
              "          const docLinkHtml = 'Like what you see? Visit the ' +\n",
              "            '<a target=\"_blank\" href=https://colab.research.google.com/notebooks/data_table.ipynb>data table notebook</a>'\n",
              "            + ' to learn more about interactive tables.';\n",
              "          element.innerHTML = '';\n",
              "          dataTable['output_type'] = 'display_data';\n",
              "          await google.colab.output.renderOutput(dataTable, element);\n",
              "          const docLink = document.createElement('div');\n",
              "          docLink.innerHTML = docLinkHtml;\n",
              "          element.appendChild(docLink);\n",
              "        }\n",
              "      </script>\n",
              "    </div>\n",
              "  </div>\n",
              "  "
            ]
          },
          "metadata": {},
          "execution_count": 37
        }
      ]
    },
    {
      "cell_type": "markdown",
      "metadata": {
        "id": "mALaHHSUWrEp"
      },
      "source": [
        "# factor analysis "
      ]
    },
    {
      "cell_type": "code",
      "metadata": {
        "id": "_zXNIFr2SEW_",
        "colab": {
          "base_uri": "https://localhost:8080/"
        },
        "outputId": "473e839d-5530-49dc-ddcf-716d67bf509b"
      },
      "source": [
        "pip install factor-analyzer"
      ],
      "execution_count": 38,
      "outputs": [
        {
          "output_type": "stream",
          "name": "stdout",
          "text": [
            "Looking in indexes: https://pypi.org/simple, https://us-python.pkg.dev/colab-wheels/public/simple/\n",
            "Requirement already satisfied: factor-analyzer in /usr/local/lib/python3.7/dist-packages (0.4.0)\n",
            "Requirement already satisfied: scipy in /usr/local/lib/python3.7/dist-packages (from factor-analyzer) (1.7.3)\n",
            "Requirement already satisfied: scikit-learn in /usr/local/lib/python3.7/dist-packages (from factor-analyzer) (1.0.2)\n",
            "Requirement already satisfied: pandas in /usr/local/lib/python3.7/dist-packages (from factor-analyzer) (1.3.5)\n",
            "Requirement already satisfied: numpy in /usr/local/lib/python3.7/dist-packages (from factor-analyzer) (1.21.6)\n",
            "Requirement already satisfied: pytz>=2017.3 in /usr/local/lib/python3.7/dist-packages (from pandas->factor-analyzer) (2022.2.1)\n",
            "Requirement already satisfied: python-dateutil>=2.7.3 in /usr/local/lib/python3.7/dist-packages (from pandas->factor-analyzer) (2.8.2)\n",
            "Requirement already satisfied: six>=1.5 in /usr/local/lib/python3.7/dist-packages (from python-dateutil>=2.7.3->pandas->factor-analyzer) (1.15.0)\n",
            "Requirement already satisfied: joblib>=0.11 in /usr/local/lib/python3.7/dist-packages (from scikit-learn->factor-analyzer) (1.1.0)\n",
            "Requirement already satisfied: threadpoolctl>=2.0.0 in /usr/local/lib/python3.7/dist-packages (from scikit-learn->factor-analyzer) (3.1.0)\n"
          ]
        }
      ]
    },
    {
      "cell_type": "code",
      "metadata": {
        "id": "CXcYAp_nSSR3",
        "colab": {
          "base_uri": "https://localhost:8080/"
        },
        "outputId": "6305f4b1-679e-4027-d28a-4a679dac4789"
      },
      "source": [
        "from factor_analyzer.factor_analyzer import calculate_kmo\n",
        "\n",
        "kmo_all,kmo_model=calculate_kmo(all_data)\n",
        "kmo_model"
      ],
      "execution_count": 39,
      "outputs": [
        {
          "output_type": "execute_result",
          "data": {
            "text/plain": [
              "0.36150807614532693"
            ]
          },
          "metadata": {},
          "execution_count": 39
        }
      ]
    },
    {
      "cell_type": "code",
      "metadata": {
        "id": "gTdOQid9z5Xe",
        "colab": {
          "base_uri": "https://localhost:8080/"
        },
        "outputId": "01d0ab9f-8f1e-4657-8aea-7747e9125fbf"
      },
      "source": [
        "from factor_analyzer import FactorAnalyzer\n",
        "fa = FactorAnalyzer(rotation=None)\n",
        "fa.fit(all_data)"
      ],
      "execution_count": 40,
      "outputs": [
        {
          "output_type": "execute_result",
          "data": {
            "text/plain": [
              "FactorAnalyzer(rotation=None, rotation_kwargs={})"
            ]
          },
          "metadata": {},
          "execution_count": 40
        }
      ]
    },
    {
      "cell_type": "code",
      "metadata": {
        "id": "daBLCwcz0AX0",
        "colab": {
          "base_uri": "https://localhost:8080/"
        },
        "outputId": "760b8bdc-a8b4-4e03-da85-313b7a11a892"
      },
      "source": [
        "eigen_values, vectors = fa.get_eigenvalues()\n",
        "eigen_values"
      ],
      "execution_count": 41,
      "outputs": [
        {
          "output_type": "execute_result",
          "data": {
            "text/plain": [
              "array([ 2.98736038e+00,  2.86809301e+00,  2.23142010e+00,  2.00172869e+00,\n",
              "        7.98630944e-01,  7.53097630e-01,  2.31013019e-01,  1.28656225e-01,\n",
              "        6.35657834e-16, -4.37069365e-16, -5.52760822e-16, -8.16765993e-16])"
            ]
          },
          "metadata": {},
          "execution_count": 41
        }
      ]
    },
    {
      "cell_type": "markdown",
      "metadata": {
        "id": "-ZHWqJNkW5lM"
      },
      "source": [
        "we have four eigenvalues >1 , so 4 factors to analyse"
      ]
    },
    {
      "cell_type": "code",
      "metadata": {
        "id": "xrWo2tJF0D9J",
        "colab": {
          "base_uri": "https://localhost:8080/",
          "height": 295
        },
        "outputId": "2e2fa425-b70e-4ba7-ed10-06e11dafbaef"
      },
      "source": [
        "plt.scatter(range(1,all_data.shape[1]+1),eigen_values)\n",
        "plt.plot(range(1,all_data.shape[1]+1),eigen_values)\n",
        "plt.title('Scree Plot')\n",
        "plt.xlabel('Factors')\n",
        "plt.ylabel('Eigenvalue')\n",
        "plt.grid()\n",
        "plt.show()"
      ],
      "execution_count": 42,
      "outputs": [
        {
          "output_type": "display_data",
          "data": {
            "text/plain": [
              "<Figure size 432x288 with 1 Axes>"
            ],
            "image/png": "[encoded data removed]"
          },
          "metadata": {
            "needs_background": "light"
          }
        }
      ]
    },
    {
      "cell_type": "code",
      "metadata": {
        "id": "u-CQpRkB0N1G"
      },
      "source": [
        "features=['medium','OC','yesterday_price']\n",
        "i=0\n",
        "all_data['factor']=0\n",
        "for feat in features: \n",
        "    all_data['factor']=all_data['factor'] + fa.loadings_[:,0][i]*all_data[feat] + fa.loadings_[:,1][i]*all_data[feat]"
      ],
      "execution_count": 43,
      "outputs": []
    },
    {
      "cell_type": "code",
      "metadata": {
        "id": "gwNV08E0TSWZ",
        "colab": {
          "base_uri": "https://localhost:8080/",
          "height": 729
        },
        "outputId": "faf04ea9-e514-4e6c-cf32-39326f2803d5"
      },
      "source": [
        "all_data.corr()"
      ],
      "execution_count": 44,
      "outputs": [
        {
          "output_type": "execute_result",
          "data": {
            "text/plain": [
              "                       company_code  yesterday_price  qty_traded  num_trades  \\\n",
              "company_code               1.000000        -0.353482    0.002786   -0.000354   \n",
              "yesterday_price           -0.353482         1.000000   -0.032592    0.030217   \n",
              "qty_traded                 0.002786        -0.032592    1.000000    0.311872   \n",
              "num_trades                -0.000354         0.030217    0.311872    1.000000   \n",
              "value                     -0.040034         0.034926    0.843870    0.122231   \n",
              "currReturn                -0.004711         0.005559    0.036744    0.086480   \n",
              "medium                    -0.152096         0.638889    0.001102    0.194943   \n",
              "OC                        -0.193813         0.339555   -0.034647   -0.146057   \n",
              "principal component 1     -0.258582         0.412877    0.824344    0.459009   \n",
              "principal component 2      0.516948        -0.817897    0.471174    0.131202   \n",
              "principal component 3     -0.271691        -0.010726    0.175740   -0.538895   \n",
              "principal component 4      0.067936         0.058044    0.018708   -0.084215   \n",
              "factor                     0.358154        -0.940150    0.038924    0.025960   \n",
              "\n",
              "                          value  currReturn    medium        OC  \\\n",
              "company_code          -0.040034   -0.004711 -0.152096 -0.193813   \n",
              "yesterday_price        0.034926    0.005559  0.638889  0.339555   \n",
              "qty_traded             0.843870    0.036744  0.001102 -0.034647   \n",
              "num_trades             0.122231    0.086480  0.194943 -0.146057   \n",
              "value                  1.000000    0.013599  0.048572 -0.000011   \n",
              "currReturn             0.013599    1.000000  0.032251  0.006051   \n",
              "medium                 0.048572    0.032251  1.000000 -0.075937   \n",
              "OC                    -0.000011    0.006051 -0.075937  1.000000   \n",
              "principal component 1  0.809324    0.100239  0.436787  0.062933   \n",
              "principal component 2  0.386074    0.005643 -0.603611 -0.423381   \n",
              "principal component 3  0.285372   -0.202796 -0.496740  0.683288   \n",
              "principal component 4  0.064881   -0.949195  0.169172 -0.229133   \n",
              "factor                -0.028939   -0.007273 -0.503506 -0.639528   \n",
              "\n",
              "                       principal component 1  principal component 2  \\\n",
              "company_code                   -2.585817e-01           5.169485e-01   \n",
              "yesterday_price                 4.128765e-01          -8.178966e-01   \n",
              "qty_traded                      8.243437e-01           4.711743e-01   \n",
              "num_trades                      4.590094e-01           1.312016e-01   \n",
              "value                           8.093243e-01           3.860745e-01   \n",
              "currReturn                      1.002392e-01           5.643122e-03   \n",
              "medium                          4.367865e-01          -6.036112e-01   \n",
              "OC                              6.293276e-02          -4.233811e-01   \n",
              "principal component 1           1.000000e+00          -4.803855e-16   \n",
              "principal component 2          -4.803855e-16           1.000000e+00   \n",
              "principal component 3           2.564589e-17          -1.013202e-16   \n",
              "principal component 4          -6.621862e-17           7.579939e-17   \n",
              "factor                         -3.628415e-01           8.240013e-01   \n",
              "\n",
              "                       principal component 3  principal component 4    factor  \n",
              "company_code                   -2.716914e-01           6.793635e-02  0.358154  \n",
              "yesterday_price                -1.072601e-02           5.804401e-02 -0.940150  \n",
              "qty_traded                      1.757402e-01           1.870785e-02  0.038924  \n",
              "num_trades                     -5.388952e-01          -8.421476e-02  0.025960  \n",
              "value                           2.853716e-01           6.488140e-02 -0.028939  \n",
              "currReturn                     -2.027958e-01          -9.491951e-01 -0.007273  \n",
              "medium                         -4.967405e-01           1.691723e-01 -0.503506  \n",
              "OC                              6.832877e-01          -2.291329e-01 -0.639528  \n",
              "principal component 1           2.564589e-17          -6.621862e-17 -0.362842  \n",
              "principal component 2          -1.013202e-16           7.579939e-17  0.824001  \n",
              "principal component 3           1.000000e+00           4.837608e-16 -0.233897  \n",
              "principal component 4           4.837608e-16           1.000000e+00  0.034627  \n",
              "factor                         -2.338968e-01           3.462742e-02  1.000000  "
            ],
            "text/html": [
              "\n",
              "  <div id=\"df-e78c39fb-32b0-416d-9984-5d140b889ca3\">\n",
              "    <div class=\"colab-df-container\">\n",
              "      <div>\n",
              "<style scoped>\n",
              "    .dataframe tbody tr th:only-of-type {\n",
              "        vertical-align: middle;\n",
              "    }\n",
              "\n",
              "    .dataframe tbody tr th {\n",
              "        vertical-align: top;\n",
              "    }\n",
              "\n",
              "    .dataframe thead th {\n",
              "        text-align: right;\n",
              "    }\n",
              "</style>\n",
              "<table border=\"1\" class=\"dataframe\">\n",
              "  <thead>\n",
              "    <tr style=\"text-align: right;\">\n",
              "      <th></th>\n",
              "      <th>company_code</th>\n",
              "      <th>yesterday_price</th>\n",
              "      <th>qty_traded</th>\n",
              "      <th>num_trades</th>\n",
              "      <th>value</th>\n",
              "      <th>currReturn</th>\n",
              "      <th>medium</th>\n",
              "      <th>OC</th>\n",
              "      <th>principal component 1</th>\n",
              "      <th>principal component 2</th>\n",
              "      <th>principal component 3</th>\n",
              "      <th>principal component 4</th>\n",
              "      <th>factor</th>\n",
              "    </tr>\n",
              "  </thead>\n",
              "  <tbody>\n",
              "    <tr>\n",
              "      <th>company_code</th>\n",
              "      <td>1.000000</td>\n",
              "      <td>-0.353482</td>\n",
              "      <td>0.002786</td>\n",
              "      <td>-0.000354</td>\n",
              "      <td>-0.040034</td>\n",
              "      <td>-0.004711</td>\n",
              "      <td>-0.152096</td>\n",
              "      <td>-0.193813</td>\n",
              "      <td>-2.585817e-01</td>\n",
              "      <td>5.169485e-01</td>\n",
              "      <td>-2.716914e-01</td>\n",
              "      <td>6.793635e-02</td>\n",
              "      <td>0.358154</td>\n",
              "    </tr>\n",
              "    <tr>\n",
              "      <th>yesterday_price</th>\n",
              "      <td>-0.353482</td>\n",
              "      <td>1.000000</td>\n",
              "      <td>-0.032592</td>\n",
              "      <td>0.030217</td>\n",
              "      <td>0.034926</td>\n",
              "      <td>0.005559</td>\n",
              "      <td>0.638889</td>\n",
              "      <td>0.339555</td>\n",
              "      <td>4.128765e-01</td>\n",
              "      <td>-8.178966e-01</td>\n",
              "      <td>-1.072601e-02</td>\n",
              "      <td>5.804401e-02</td>\n",
              "      <td>-0.940150</td>\n",
              "    </tr>\n",
              "    <tr>\n",
              "      <th>qty_traded</th>\n",
              "      <td>0.002786</td>\n",
              "      <td>-0.032592</td>\n",
              "      <td>1.000000</td>\n",
              "      <td>0.311872</td>\n",
              "      <td>0.843870</td>\n",
              "      <td>0.036744</td>\n",
              "      <td>0.001102</td>\n",
              "      <td>-0.034647</td>\n",
              "      <td>8.243437e-01</td>\n",
              "      <td>4.711743e-01</td>\n",
              "      <td>1.757402e-01</td>\n",
              "      <td>1.870785e-02</td>\n",
              "      <td>0.038924</td>\n",
              "    </tr>\n",
              "    <tr>\n",
              "      <th>num_trades</th>\n",
              "      <td>-0.000354</td>\n",
              "      <td>0.030217</td>\n",
              "      <td>0.311872</td>\n",
              "      <td>1.000000</td>\n",
              "      <td>0.122231</td>\n",
              "      <td>0.086480</td>\n",
              "      <td>0.194943</td>\n",
              "      <td>-0.146057</td>\n",
              "      <td>4.590094e-01</td>\n",
              "      <td>1.312016e-01</td>\n",
              "      <td>-5.388952e-01</td>\n",
              "      <td>-8.421476e-02</td>\n",
              "      <td>0.025960</td>\n",
              "    </tr>\n",
              "    <tr>\n",
              "      <th>value</th>\n",
              "      <td>-0.040034</td>\n",
              "      <td>0.034926</td>\n",
              "      <td>0.843870</td>\n",
              "      <td>0.122231</td>\n",
              "      <td>1.000000</td>\n",
              "      <td>0.013599</td>\n",
              "      <td>0.048572</td>\n",
              "      <td>-0.000011</td>\n",
              "      <td>8.093243e-01</td>\n",
              "      <td>3.860745e-01</td>\n",
              "      <td>2.853716e-01</td>\n",
              "      <td>6.488140e-02</td>\n",
              "      <td>-0.028939</td>\n",
              "    </tr>\n",
              "    <tr>\n",
              "      <th>currReturn</th>\n",
              "      <td>-0.004711</td>\n",
              "      <td>0.005559</td>\n",
              "      <td>0.036744</td>\n",
              "      <td>0.086480</td>\n",
              "      <td>0.013599</td>\n",
              "      <td>1.000000</td>\n",
              "      <td>0.032251</td>\n",
              "      <td>0.006051</td>\n",
              "      <td>1.002392e-01</td>\n",
              "      <td>5.643122e-03</td>\n",
              "      <td>-2.027958e-01</td>\n",
              "      <td>-9.491951e-01</td>\n",
              "      <td>-0.007273</td>\n",
              "    </tr>\n",
              "    <tr>\n",
              "      <th>medium</th>\n",
              "      <td>-0.152096</td>\n",
              "      <td>0.638889</td>\n",
              "      <td>0.001102</td>\n",
              "      <td>0.194943</td>\n",
              "      <td>0.048572</td>\n",
              "      <td>0.032251</td>\n",
              "      <td>1.000000</td>\n",
              "      <td>-0.075937</td>\n",
              "      <td>4.367865e-01</td>\n",
              "      <td>-6.036112e-01</td>\n",
              "      <td>-4.967405e-01</td>\n",
              "      <td>1.691723e-01</td>\n",
              "      <td>-0.503506</td>\n",
              "    </tr>\n",
              "    <tr>\n",
              "      <th>OC</th>\n",
              "      <td>-0.193813</td>\n",
              "      <td>0.339555</td>\n",
              "      <td>-0.034647</td>\n",
              "      <td>-0.146057</td>\n",
              "      <td>-0.000011</td>\n",
              "      <td>0.006051</td>\n",
              "      <td>-0.075937</td>\n",
              "      <td>1.000000</td>\n",
              "      <td>6.293276e-02</td>\n",
              "      <td>-4.233811e-01</td>\n",
              "      <td>6.832877e-01</td>\n",
              "      <td>-2.291329e-01</td>\n",
              "      <td>-0.639528</td>\n",
              "    </tr>\n",
              "    <tr>\n",
              "      <th>principal component 1</th>\n",
              "      <td>-0.258582</td>\n",
              "      <td>0.412877</td>\n",
              "      <td>0.824344</td>\n",
              "      <td>0.459009</td>\n",
              "      <td>0.809324</td>\n",
              "      <td>0.100239</td>\n",
              "      <td>0.436787</td>\n",
              "      <td>0.062933</td>\n",
              "      <td>1.000000e+00</td>\n",
              "      <td>-4.803855e-16</td>\n",
              "      <td>2.564589e-17</td>\n",
              "      <td>-6.621862e-17</td>\n",
              "      <td>-0.362842</td>\n",
              "    </tr>\n",
              "    <tr>\n",
              "      <th>principal component 2</th>\n",
              "      <td>0.516948</td>\n",
              "      <td>-0.817897</td>\n",
              "      <td>0.471174</td>\n",
              "      <td>0.131202</td>\n",
              "      <td>0.386074</td>\n",
              "      <td>0.005643</td>\n",
              "      <td>-0.603611</td>\n",
              "      <td>-0.423381</td>\n",
              "      <td>-4.803855e-16</td>\n",
              "      <td>1.000000e+00</td>\n",
              "      <td>-1.013202e-16</td>\n",
              "      <td>7.579939e-17</td>\n",
              "      <td>0.824001</td>\n",
              "    </tr>\n",
              "    <tr>\n",
              "      <th>principal component 3</th>\n",
              "      <td>-0.271691</td>\n",
              "      <td>-0.010726</td>\n",
              "      <td>0.175740</td>\n",
              "      <td>-0.538895</td>\n",
              "      <td>0.285372</td>\n",
              "      <td>-0.202796</td>\n",
              "      <td>-0.496740</td>\n",
              "      <td>0.683288</td>\n",
              "      <td>2.564589e-17</td>\n",
              "      <td>-1.013202e-16</td>\n",
              "      <td>1.000000e+00</td>\n",
              "      <td>4.837608e-16</td>\n",
              "      <td>-0.233897</td>\n",
              "    </tr>\n",
              "    <tr>\n",
              "      <th>principal component 4</th>\n",
              "      <td>0.067936</td>\n",
              "      <td>0.058044</td>\n",
              "      <td>0.018708</td>\n",
              "      <td>-0.084215</td>\n",
              "      <td>0.064881</td>\n",
              "      <td>-0.949195</td>\n",
              "      <td>0.169172</td>\n",
              "      <td>-0.229133</td>\n",
              "      <td>-6.621862e-17</td>\n",
              "      <td>7.579939e-17</td>\n",
              "      <td>4.837608e-16</td>\n",
              "      <td>1.000000e+00</td>\n",
              "      <td>0.034627</td>\n",
              "    </tr>\n",
              "    <tr>\n",
              "      <th>factor</th>\n",
              "      <td>0.358154</td>\n",
              "      <td>-0.940150</td>\n",
              "      <td>0.038924</td>\n",
              "      <td>0.025960</td>\n",
              "      <td>-0.028939</td>\n",
              "      <td>-0.007273</td>\n",
              "      <td>-0.503506</td>\n",
              "      <td>-0.639528</td>\n",
              "      <td>-3.628415e-01</td>\n",
              "      <td>8.240013e-01</td>\n",
              "      <td>-2.338968e-01</td>\n",
              "      <td>3.462742e-02</td>\n",
              "      <td>1.000000</td>\n",
              "    </tr>\n",
              "  </tbody>\n",
              "</table>\n",
              "</div>\n",
              "      <button class=\"colab-df-convert\" onclick=\"convertToInteractive('df-e78c39fb-32b0-416d-9984-5d140b889ca3')\"\n",
              "              title=\"Convert this dataframe to an interactive table.\"\n",
              "              style=\"display:none;\">\n",
              "        \n",
              "  <svg xmlns=\"http://www.w3.org/2000/svg\" height=\"24px\"viewBox=\"0 0 24 24\"\n",
              "       width=\"24px\">\n",
              "    <path d=\"M0 0h24v24H0V0z\" fill=\"none\"/>\n",
              "    <path d=\"M18.56 5.44l.94 2.06.94-2.06 2.06-.94-2.06-.94-.94-2.06-.94 2.06-2.06.94zm-11 1L8.5 8.5l.94-2.06 2.06-.94-2.06-.94L8.5 2.5l-.94 2.06-2.06.94zm10 10l.94 2.06.94-2.06 2.06-.94-2.06-.94-.94-2.06-.94 2.06-2.06.94z\"/><path d=\"M17.41 7.96l-1.37-1.37c-.4-.4-.92-.59-1.43-.59-.52 0-1.04.2-1.43.59L10.3 9.45l-7.72 7.72c-.78.78-.78 2.05 0 2.83L4 21.41c.39.39.9.59 1.41.59.51 0 1.02-.2 1.41-.59l7.78-7.78 2.81-2.81c.8-.78.8-2.07 0-2.86zM5.41 20L4 18.59l7.72-7.72 1.47 1.35L5.41 20z\"/>\n",
              "  </svg>\n",
              "      </button>\n",
              "      \n",
              "  <style>\n",
              "    .colab-df-container {\n",
              "      display:flex;\n",
              "      flex-wrap:wrap;\n",
              "      gap: 12px;\n",
              "    }\n",
              "\n",
              "    .colab-df-convert {\n",
              "      background-color: #E8F0FE;\n",
              "      border: none;\n",
              "      border-radius: 50%;\n",
              "      cursor: pointer;\n",
              "      display: none;\n",
              "      fill: #1967D2;\n",
              "      height: 32px;\n",
              "      padding: 0 0 0 0;\n",
              "      width: 32px;\n",
              "    }\n",
              "\n",
              "    .colab-df-convert:hover {\n",
              "      background-color: #E2EBFA;\n",
              "      box-shadow: 0px 1px 2px rgba(60, 64, 67, 0.3), 0px 1px 3px 1px rgba(60, 64, 67, 0.15);\n",
              "      fill: #174EA6;\n",
              "    }\n",
              "\n",
              "    [theme=dark] .colab-df-convert {\n",
              "      background-color: #3B4455;\n",
              "      fill: #D2E3FC;\n",
              "    }\n",
              "\n",
              "    [theme=dark] .colab-df-convert:hover {\n",
              "      background-color: #434B5C;\n",
              "      box-shadow: 0px 1px 3px 1px rgba(0, 0, 0, 0.15);\n",
              "      filter: drop-shadow(0px 1px 2px rgba(0, 0, 0, 0.3));\n",
              "      fill: #FFFFFF;\n",
              "    }\n",
              "  </style>\n",
              "\n",
              "      <script>\n",
              "        const buttonEl =\n",
              "          document.querySelector('#df-e78c39fb-32b0-416d-9984-5d140b889ca3 button.colab-df-convert');\n",
              "        buttonEl.style.display =\n",
              "          google.colab.kernel.accessAllowed ? 'block' : 'none';\n",
              "\n",
              "        async function convertToInteractive(key) {\n",
              "          const element = document.querySelector('#df-e78c39fb-32b0-416d-9984-5d140b889ca3');\n",
              "          const dataTable =\n",
              "            await google.colab.kernel.invokeFunction('convertToInteractive',\n",
              "                                                     [key], {});\n",
              "          if (!dataTable) return;\n",
              "\n",
              "          const docLinkHtml = 'Like what you see? Visit the ' +\n",
              "            '<a target=\"_blank\" href=https://colab.research.google.com/notebooks/data_table.ipynb>data table notebook</a>'\n",
              "            + ' to learn more about interactive tables.';\n",
              "          element.innerHTML = '';\n",
              "          dataTable['output_type'] = 'display_data';\n",
              "          await google.colab.output.renderOutput(dataTable, element);\n",
              "          const docLink = document.createElement('div');\n",
              "          docLink.innerHTML = docLinkHtml;\n",
              "          element.appendChild(docLink);\n",
              "        }\n",
              "      </script>\n",
              "    </div>\n",
              "  </div>\n",
              "  "
            ]
          },
          "metadata": {},
          "execution_count": 44
        }
      ]
    },
    {
      "cell_type": "markdown",
      "metadata": {
        "id": "5lyZinx0XLvB"
      },
      "source": [
        "i didn't find a high correlation "
      ]
    },
    {
      "cell_type": "markdown",
      "metadata": {
        "id": "tuoQW-EfXUWv"
      },
      "source": [
        "# data spliting "
      ]
    },
    {
      "cell_type": "code",
      "metadata": {
        "id": "k9tjNUdFmCn3",
        "outputId": "ba3a4e21-eb97-4503-c20c-57488ee0ab4a",
        "colab": {
          "base_uri": "https://localhost:8080/"
        }
      },
      "source": [
        "#split data\n",
        "train = pd.DataFrame(all_data[:train.shape[0]])\n",
        "test = pd.DataFrame(all_data[train.shape[0]:])\n",
        "train.shape,test.shape"
      ],
      "execution_count": 45,
      "outputs": [
        {
          "output_type": "execute_result",
          "data": {
            "text/plain": [
              "((20417, 13), (20331, 13))"
            ]
          },
          "metadata": {},
          "execution_count": 45
        }
      ]
    },
    {
      "cell_type": "code",
      "metadata": {
        "id": "1pUJm6fznhln",
        "outputId": "0a19c747-0e44-42ed-a117-72d382ea8093",
        "colab": {
          "base_uri": "https://localhost:8080/"
        }
      },
      "source": [
        "# split train dataset into training and validation sets\n",
        "X_train, X_test, y_train, y_test = train_test_split(train, target, test_size = 0.2, random_state = 33)\n",
        "X_train.shape,X_test.shape,y_train.shape,y_test.shape"
      ],
      "execution_count": 46,
      "outputs": [
        {
          "output_type": "execute_result",
          "data": {
            "text/plain": [
              "((16333, 13), (4084, 13), (16333,), (4084,))"
            ]
          },
          "metadata": {},
          "execution_count": 46
        }
      ]
    },
    {
      "cell_type": "markdown",
      "metadata": {
        "id": "NGfLZQUXXYtJ"
      },
      "source": [
        "# Modeling "
      ]
    },
    {
      "cell_type": "code",
      "metadata": {
        "id": "_SWKXNeNnmD_",
        "outputId": "84ff924a-7834-4212-e4b7-d0eda89834ae",
        "colab": {
          "base_uri": "https://localhost:8080/",
          "height": 265
        }
      },
      "source": [
        "lin_reg = linear_model.LinearRegression()\n",
        "# train model\n",
        "lin_reg.fit(X_train, y_train)\n",
        "# predict\n",
        "y_train_pred = lin_reg.predict(X_train)\n",
        "y_test_pred = lin_reg.predict(X_test)\n",
        "# Plot predictions\n",
        "fig=plt.figure()\n",
        "plt.scatter(y_train_pred, y_train, c = \"blue\", marker = \"s\", label = \"Training data\")\n",
        "plt.scatter(y_test_pred, y_test, c = \"lightgreen\", marker = \"s\", label = \"Validation data\")\n",
        "plt.show()"
      ],
      "execution_count": 47,
      "outputs": [
        {
          "output_type": "display_data",
          "data": {
            "text/plain": [
              "<Figure size 432x288 with 1 Axes>"
            ],
            "image/png": "[encoded data removed]"
          },
          "metadata": {
            "needs_background": "light"
          }
        }
      ]
    },
    {
      "cell_type": "code",
      "metadata": {
        "id": "74ycK9q7xPXN",
        "outputId": "f7554155-9898-4f41-b845-9204ef030004",
        "colab": {
          "base_uri": "https://localhost:8080/"
        }
      },
      "source": [
        "from sklearn.metrics import mean_squared_error\n",
        "error =np.sqrt(mean_squared_error( y_test, y_test_pred ))\n",
        "print(error)"
      ],
      "execution_count": 48,
      "outputs": [
        {
          "output_type": "stream",
          "name": "stdout",
          "text": [
            "171.84918199562202\n"
          ]
        }
      ]
    },
    {
      "cell_type": "code",
      "metadata": {
        "id": "PPOWt1Faxl9D"
      },
      "source": [
        "prediction=lin_reg.predict(test)"
      ],
      "execution_count": 49,
      "outputs": []
    },
    {
      "cell_type": "code",
      "metadata": {
        "id": "iT7v4sPcyVJU"
      },
      "source": [
        "next_day_pred=pd.DataFrame()"
      ],
      "execution_count": 50,
      "outputs": []
    },
    {
      "cell_type": "code",
      "metadata": {
        "id": "cS8shaptylrP"
      },
      "source": [
        "next_day_pred[\"Id\"]=test_id\n",
        "next_day_pred[\"next_day_ret\"]=prediction"
      ],
      "execution_count": 51,
      "outputs": []
    },
    {
      "cell_type": "code",
      "metadata": {
        "id": "7_7wuTrQyriN",
        "outputId": "05005db2-f5e6-4068-838e-a2385195c210",
        "colab": {
          "base_uri": "https://localhost:8080/",
          "height": 238
        }
      },
      "source": [
        "next_day_pred.head()"
      ],
      "execution_count": 52,
      "outputs": [
        {
          "output_type": "execute_result",
          "data": {
            "text/plain": [
              "               Id  next_day_ret\n",
              "date                           \n",
              "2019-01-02  20417     -9.178432\n",
              "2019-01-02  20418     -3.783573\n",
              "2019-01-02  20419     -9.195985\n",
              "2019-01-02  20420     -2.612437\n",
              "2019-01-02  20421     -2.655544"
            ],
            "text/html": [
              "\n",
              "  <div id=\"df-3c315778-a4b2-44dd-b8f0-77a0998aa3a5\">\n",
              "    <div class=\"colab-df-container\">\n",
              "      <div>\n",
              "<style scoped>\n",
              "    .dataframe tbody tr th:only-of-type {\n",
              "        vertical-align: middle;\n",
              "    }\n",
              "\n",
              "    .dataframe tbody tr th {\n",
              "        vertical-align: top;\n",
              "    }\n",
              "\n",
              "    .dataframe thead th {\n",
              "        text-align: right;\n",
              "    }\n",
              "</style>\n",
              "<table border=\"1\" class=\"dataframe\">\n",
              "  <thead>\n",
              "    <tr style=\"text-align: right;\">\n",
              "      <th></th>\n",
              "      <th>Id</th>\n",
              "      <th>next_day_ret</th>\n",
              "    </tr>\n",
              "    <tr>\n",
              "      <th>date</th>\n",
              "      <th></th>\n",
              "      <th></th>\n",
              "    </tr>\n",
              "  </thead>\n",
              "  <tbody>\n",
              "    <tr>\n",
              "      <th>2019-01-02</th>\n",
              "      <td>20417</td>\n",
              "      <td>-9.178432</td>\n",
              "    </tr>\n",
              "    <tr>\n",
              "      <th>2019-01-02</th>\n",
              "      <td>20418</td>\n",
              "      <td>-3.783573</td>\n",
              "    </tr>\n",
              "    <tr>\n",
              "      <th>2019-01-02</th>\n",
              "      <td>20419</td>\n",
              "      <td>-9.195985</td>\n",
              "    </tr>\n",
              "    <tr>\n",
              "      <th>2019-01-02</th>\n",
              "      <td>20420</td>\n",
              "      <td>-2.612437</td>\n",
              "    </tr>\n",
              "    <tr>\n",
              "      <th>2019-01-02</th>\n",
              "      <td>20421</td>\n",
              "      <td>-2.655544</td>\n",
              "    </tr>\n",
              "  </tbody>\n",
              "</table>\n",
              "</div>\n",
              "      <button class=\"colab-df-convert\" onclick=\"convertToInteractive('df-3c315778-a4b2-44dd-b8f0-77a0998aa3a5')\"\n",
              "              title=\"Convert this dataframe to an interactive table.\"\n",
              "              style=\"display:none;\">\n",
              "        \n",
              "  <svg xmlns=\"http://www.w3.org/2000/svg\" height=\"24px\"viewBox=\"0 0 24 24\"\n",
              "       width=\"24px\">\n",
              "    <path d=\"M0 0h24v24H0V0z\" fill=\"none\"/>\n",
              "    <path d=\"M18.56 5.44l.94 2.06.94-2.06 2.06-.94-2.06-.94-.94-2.06-.94 2.06-2.06.94zm-11 1L8.5 8.5l.94-2.06 2.06-.94-2.06-.94L8.5 2.5l-.94 2.06-2.06.94zm10 10l.94 2.06.94-2.06 2.06-.94-2.06-.94-.94-2.06-.94 2.06-2.06.94z\"/><path d=\"M17.41 7.96l-1.37-1.37c-.4-.4-.92-.59-1.43-.59-.52 0-1.04.2-1.43.59L10.3 9.45l-7.72 7.72c-.78.78-.78 2.05 0 2.83L4 21.41c.39.39.9.59 1.41.59.51 0 1.02-.2 1.41-.59l7.78-7.78 2.81-2.81c.8-.78.8-2.07 0-2.86zM5.41 20L4 18.59l7.72-7.72 1.47 1.35L5.41 20z\"/>\n",
              "  </svg>\n",
              "      </button>\n",
              "      \n",
              "  <style>\n",
              "    .colab-df-container {\n",
              "      display:flex;\n",
              "      flex-wrap:wrap;\n",
              "      gap: 12px;\n",
              "    }\n",
              "\n",
              "    .colab-df-convert {\n",
              "      background-color: #E8F0FE;\n",
              "      border: none;\n",
              "      border-radius: 50%;\n",
              "      cursor: pointer;\n",
              "      display: none;\n",
              "      fill: #1967D2;\n",
              "      height: 32px;\n",
              "      padding: 0 0 0 0;\n",
              "      width: 32px;\n",
              "    }\n",
              "\n",
              "    .colab-df-convert:hover {\n",
              "      background-color: #E2EBFA;\n",
              "      box-shadow: 0px 1px 2px rgba(60, 64, 67, 0.3), 0px 1px 3px 1px rgba(60, 64, 67, 0.15);\n",
              "      fill: #174EA6;\n",
              "    }\n",
              "\n",
              "    [theme=dark] .colab-df-convert {\n",
              "      background-color: #3B4455;\n",
              "      fill: #D2E3FC;\n",
              "    }\n",
              "\n",
              "    [theme=dark] .colab-df-convert:hover {\n",
              "      background-color: #434B5C;\n",
              "      box-shadow: 0px 1px 3px 1px rgba(0, 0, 0, 0.15);\n",
              "      filter: drop-shadow(0px 1px 2px rgba(0, 0, 0, 0.3));\n",
              "      fill: #FFFFFF;\n",
              "    }\n",
              "  </style>\n",
              "\n",
              "      <script>\n",
              "        const buttonEl =\n",
              "          document.querySelector('#df-3c315778-a4b2-44dd-b8f0-77a0998aa3a5 button.colab-df-convert');\n",
              "        buttonEl.style.display =\n",
              "          google.colab.kernel.accessAllowed ? 'block' : 'none';\n",
              "\n",
              "        async function convertToInteractive(key) {\n",
              "          const element = document.querySelector('#df-3c315778-a4b2-44dd-b8f0-77a0998aa3a5');\n",
              "          const dataTable =\n",
              "            await google.colab.kernel.invokeFunction('convertToInteractive',\n",
              "                                                     [key], {});\n",
              "          if (!dataTable) return;\n",
              "\n",
              "          const docLinkHtml = 'Like what you see? Visit the ' +\n",
              "            '<a target=\"_blank\" href=https://colab.research.google.com/notebooks/data_table.ipynb>data table notebook</a>'\n",
              "            + ' to learn more about interactive tables.';\n",
              "          element.innerHTML = '';\n",
              "          dataTable['output_type'] = 'display_data';\n",
              "          await google.colab.output.renderOutput(dataTable, element);\n",
              "          const docLink = document.createElement('div');\n",
              "          docLink.innerHTML = docLinkHtml;\n",
              "          element.appendChild(docLink);\n",
              "        }\n",
              "      </script>\n",
              "    </div>\n",
              "  </div>\n",
              "  "
            ]
          },
          "metadata": {},
          "execution_count": 52
        }
      ]
    },
    {
      "cell_type": "code",
      "metadata": {
        "id": "WBVwaFhRyvg8"
      },
      "source": [
        "next_day_pred.to_csv(\"Houssem project 11.csv\",index=False)"
      ],
      "execution_count": 53,
      "outputs": []
    }
  ]
}